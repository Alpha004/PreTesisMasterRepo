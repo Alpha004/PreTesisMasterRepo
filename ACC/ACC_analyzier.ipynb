{
 "cells": [
  {
   "cell_type": "markdown",
   "metadata": {},
   "source": [
    "## ANALISIS DE DATOS DE ACC (ACELEROMETRO)\n",
    "\n",
    "El presente es para analizar los datos del acelerometro del smartwatch, el cual tiene un procesamiento de datos en 32Hz, que seria la 32ava parte de un segundo"
   ]
  },
  {
   "cell_type": "code",
   "execution_count": 2,
   "metadata": {},
   "outputs": [],
   "source": [
    "# Importando Pandas y otras librerias\n",
    "import pandas as pd"
   ]
  },
  {
   "cell_type": "code",
   "execution_count": 9,
   "metadata": {},
   "outputs": [],
   "source": [
    "# Leyendo el CSV\n",
    "acelerometro_values = pd.read_csv('F://Jesus//UNSA//Maestria//Tesis//Codigo Test//PreTesisMasterRepo//ACC//ACC_016.csv', engine='python', na_values=\"not available\")"
   ]
  },
  {
   "cell_type": "code",
   "execution_count": 10,
   "metadata": {},
   "outputs": [
    {
     "data": {
      "text/html": [
       "<div>\n",
       "<style scoped>\n",
       "    .dataframe tbody tr th:only-of-type {\n",
       "        vertical-align: middle;\n",
       "    }\n",
       "\n",
       "    .dataframe tbody tr th {\n",
       "        vertical-align: top;\n",
       "    }\n",
       "\n",
       "    .dataframe thead th {\n",
       "        text-align: right;\n",
       "    }\n",
       "</style>\n",
       "<table border=\"1\" class=\"dataframe\">\n",
       "  <thead>\n",
       "    <tr style=\"text-align: right;\">\n",
       "      <th></th>\n",
       "      <th>datetime</th>\n",
       "      <th>acc_x</th>\n",
       "      <th>acc_y</th>\n",
       "      <th>acc_z</th>\n",
       "    </tr>\n",
       "  </thead>\n",
       "  <tbody>\n",
       "    <tr>\n",
       "      <th>0</th>\n",
       "      <td>2020-07-16 09:29:03.000000</td>\n",
       "      <td>-39.0</td>\n",
       "      <td>-28.0</td>\n",
       "      <td>37.0</td>\n",
       "    </tr>\n",
       "    <tr>\n",
       "      <th>1</th>\n",
       "      <td>2020-07-16 09:29:03.031250</td>\n",
       "      <td>-38.0</td>\n",
       "      <td>-27.0</td>\n",
       "      <td>37.0</td>\n",
       "    </tr>\n",
       "    <tr>\n",
       "      <th>2</th>\n",
       "      <td>2020-07-16 09:29:03.062500</td>\n",
       "      <td>-37.0</td>\n",
       "      <td>-37.0</td>\n",
       "      <td>37.0</td>\n",
       "    </tr>\n",
       "    <tr>\n",
       "      <th>3</th>\n",
       "      <td>2020-07-16 09:29:03.093750</td>\n",
       "      <td>-47.0</td>\n",
       "      <td>-27.0</td>\n",
       "      <td>41.0</td>\n",
       "    </tr>\n",
       "    <tr>\n",
       "      <th>4</th>\n",
       "      <td>2020-07-16 09:29:03.125000</td>\n",
       "      <td>-39.0</td>\n",
       "      <td>-37.0</td>\n",
       "      <td>34.0</td>\n",
       "    </tr>\n",
       "  </tbody>\n",
       "</table>\n",
       "</div>"
      ],
      "text/plain": [
       "                     datetime   acc_x   acc_y   acc_z\n",
       "0  2020-07-16 09:29:03.000000   -39.0   -28.0    37.0\n",
       "1  2020-07-16 09:29:03.031250   -38.0   -27.0    37.0\n",
       "2  2020-07-16 09:29:03.062500   -37.0   -37.0    37.0\n",
       "3  2020-07-16 09:29:03.093750   -47.0   -27.0    41.0\n",
       "4  2020-07-16 09:29:03.125000   -39.0   -37.0    34.0"
      ]
     },
     "execution_count": 10,
     "metadata": {},
     "output_type": "execute_result"
    }
   ],
   "source": [
    "acelerometro_values.head()"
   ]
  },
  {
   "cell_type": "code",
   "execution_count": 11,
   "metadata": {},
   "outputs": [
    {
     "name": "stdout",
     "output_type": "stream",
     "text": [
      "<class 'pandas.core.frame.DataFrame'>\n",
      "RangeIndex: 17860788 entries, 0 to 17860787\n",
      "Data columns (total 4 columns):\n",
      " #   Column    Dtype  \n",
      "---  ------    -----  \n",
      " 0   datetime  object \n",
      " 1    acc_x    float64\n",
      " 2    acc_y    float64\n",
      " 3    acc_z    float64\n",
      "dtypes: float64(3), object(1)\n",
      "memory usage: 545.1+ MB\n"
     ]
    }
   ],
   "source": [
    "acelerometro_values.info()"
   ]
  },
  {
   "cell_type": "code",
   "execution_count": 12,
   "metadata": {},
   "outputs": [
    {
     "data": {
      "text/plain": [
       "datetime    17860788\n",
       " acc_x      17860788\n",
       " acc_y      17860788\n",
       " acc_z      17860788\n",
       "dtype: int64"
      ]
     },
     "execution_count": 12,
     "metadata": {},
     "output_type": "execute_result"
    }
   ],
   "source": [
    "acelerometro_values.count()"
   ]
  },
  {
   "cell_type": "code",
   "execution_count": 13,
   "metadata": {},
   "outputs": [
    {
     "data": {
      "text/plain": [
       "0    2020-07-16 09:29:03.000000\n",
       "1    2020-07-16 09:29:03.031250\n",
       "2    2020-07-16 09:29:03.062500\n",
       "3    2020-07-16 09:29:03.093750\n",
       "4    2020-07-16 09:29:03.125000\n",
       "Name: datetime, dtype: object"
      ]
     },
     "execution_count": 13,
     "metadata": {},
     "output_type": "execute_result"
    }
   ],
   "source": [
    "acelerometro_values[\"datetime\"].head()"
   ]
  },
  {
   "cell_type": "markdown",
   "metadata": {},
   "source": [
    "### Trabajando con Datetime\n",
    "Lo primero sera convertir los datetime a el formato correcto, ya que lo esta detectando como object, lo siguiente sera colocar como index las fechas y al final agrupar por cada 5 minutos los datos para obtener el promedio y media de los datos\n"
   ]
  },
  {
   "cell_type": "code",
   "execution_count": 14,
   "metadata": {},
   "outputs": [],
   "source": [
    "# Convertimos en fechas los datimetimes\n",
    "acelerometro_values['datetime'] = pd.to_datetime(acelerometro_values['datetime'])"
   ]
  },
  {
   "cell_type": "code",
   "execution_count": 15,
   "metadata": {},
   "outputs": [],
   "source": [
    "acelerometro_values = acelerometro_values.set_index('datetime')"
   ]
  },
  {
   "cell_type": "code",
   "execution_count": 16,
   "metadata": {},
   "outputs": [],
   "source": [
    "df_procesado = acelerometro_values.resample('5min') "
   ]
  },
  {
   "cell_type": "code",
   "execution_count": 17,
   "metadata": {},
   "outputs": [
    {
     "data": {
      "text/html": [
       "<div>\n",
       "<style scoped>\n",
       "    .dataframe tbody tr th:only-of-type {\n",
       "        vertical-align: middle;\n",
       "    }\n",
       "\n",
       "    .dataframe tbody tr th {\n",
       "        vertical-align: top;\n",
       "    }\n",
       "\n",
       "    .dataframe thead th {\n",
       "        text-align: right;\n",
       "    }\n",
       "</style>\n",
       "<table border=\"1\" class=\"dataframe\">\n",
       "  <thead>\n",
       "    <tr style=\"text-align: right;\">\n",
       "      <th></th>\n",
       "      <th>acc_x</th>\n",
       "      <th>acc_y</th>\n",
       "      <th>acc_z</th>\n",
       "    </tr>\n",
       "    <tr>\n",
       "      <th>datetime</th>\n",
       "      <th></th>\n",
       "      <th></th>\n",
       "      <th></th>\n",
       "    </tr>\n",
       "  </thead>\n",
       "  <tbody>\n",
       "    <tr>\n",
       "      <th>2020-07-16 09:25:00</th>\n",
       "      <td>4.867325</td>\n",
       "      <td>-0.680921</td>\n",
       "      <td>6.506579</td>\n",
       "    </tr>\n",
       "    <tr>\n",
       "      <th>2020-07-16 09:30:00</th>\n",
       "      <td>50.672187</td>\n",
       "      <td>-11.917500</td>\n",
       "      <td>-13.935833</td>\n",
       "    </tr>\n",
       "    <tr>\n",
       "      <th>2020-07-16 09:35:00</th>\n",
       "      <td>45.593125</td>\n",
       "      <td>-16.249479</td>\n",
       "      <td>3.055833</td>\n",
       "    </tr>\n",
       "    <tr>\n",
       "      <th>2020-07-16 09:40:00</th>\n",
       "      <td>41.990729</td>\n",
       "      <td>-26.802396</td>\n",
       "      <td>12.815417</td>\n",
       "    </tr>\n",
       "    <tr>\n",
       "      <th>2020-07-16 09:45:00</th>\n",
       "      <td>51.089583</td>\n",
       "      <td>-16.271354</td>\n",
       "      <td>-9.667083</td>\n",
       "    </tr>\n",
       "  </tbody>\n",
       "</table>\n",
       "</div>"
      ],
      "text/plain": [
       "                         acc_x      acc_y      acc_z\n",
       "datetime                                            \n",
       "2020-07-16 09:25:00   4.867325  -0.680921   6.506579\n",
       "2020-07-16 09:30:00  50.672187 -11.917500 -13.935833\n",
       "2020-07-16 09:35:00  45.593125 -16.249479   3.055833\n",
       "2020-07-16 09:40:00  41.990729 -26.802396  12.815417\n",
       "2020-07-16 09:45:00  51.089583 -16.271354  -9.667083"
      ]
     },
     "execution_count": 17,
     "metadata": {},
     "output_type": "execute_result"
    }
   ],
   "source": [
    "# Obtenemos el promedio\n",
    "df_promedio = df_procesado.mean()\n",
    "df_promedio.head()"
   ]
  }
 ],
 "metadata": {
  "kernelspec": {
   "display_name": "base",
   "language": "python",
   "name": "python3"
  },
  "language_info": {
   "codemirror_mode": {
    "name": "ipython",
    "version": 3
   },
   "file_extension": ".py",
   "mimetype": "text/x-python",
   "name": "python",
   "nbconvert_exporter": "python",
   "pygments_lexer": "ipython3",
   "version": "3.12.4"
  }
 },
 "nbformat": 4,
 "nbformat_minor": 2
}
