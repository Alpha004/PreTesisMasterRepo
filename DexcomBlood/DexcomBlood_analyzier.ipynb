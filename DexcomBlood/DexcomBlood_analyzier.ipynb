{
 "cells": [
  {
   "cell_type": "markdown",
   "metadata": {},
   "source": [
    "## ANALISIS DE DATOS DE GLUCOSA (MEDIDOS POR DEXCOMBLOOD DEVICE)\n",
    "\n",
    "El presente es para analizar y limpiar los datos de glucosa del dispositivo que como vemos brindan directamente el nivel de glucosa del paciente en el transcurso de los dias"
   ]
  },
  {
   "cell_type": "code",
   "execution_count": 269,
   "metadata": {},
   "outputs": [],
   "source": [
    "# Importando Pandas y otras librerias\n",
    "import pandas as pd\n",
    "import numpy as np"
   ]
  },
  {
   "cell_type": "code",
   "execution_count": 270,
   "metadata": {},
   "outputs": [],
   "source": [
    "PACIENTE = '016'\n",
    "PATH_FOLDER = 'G:\\\\Dataset\\\\big-ideas-lab-glycemic-variability-and-wearable-device-data-1.1.2\\\\'+PACIENTE+'\\\\'"
   ]
  },
  {
   "cell_type": "code",
   "execution_count": 271,
   "metadata": {},
   "outputs": [],
   "source": [
    "# Leyendo el CSV\n",
    "glucose_values = pd.read_csv(PATH_FOLDER + 'Dexcom_'+PACIENTE+'.csv', engine='python', na_values=\"not available\")\n",
    "glucose_values = glucose_values.iloc[12:]"
   ]
  },
  {
   "cell_type": "code",
   "execution_count": 272,
   "metadata": {},
   "outputs": [
    {
     "data": {
      "text/html": [
       "<div>\n",
       "<style scoped>\n",
       "    .dataframe tbody tr th:only-of-type {\n",
       "        vertical-align: middle;\n",
       "    }\n",
       "\n",
       "    .dataframe tbody tr th {\n",
       "        vertical-align: top;\n",
       "    }\n",
       "\n",
       "    .dataframe thead th {\n",
       "        text-align: right;\n",
       "    }\n",
       "</style>\n",
       "<table border=\"1\" class=\"dataframe\">\n",
       "  <thead>\n",
       "    <tr style=\"text-align: right;\">\n",
       "      <th></th>\n",
       "      <th>Index</th>\n",
       "      <th>Timestamp (YYYY-MM-DDThh:mm:ss)</th>\n",
       "      <th>Event Type</th>\n",
       "      <th>Event Subtype</th>\n",
       "      <th>Patient Info</th>\n",
       "      <th>Device Info</th>\n",
       "      <th>Source Device ID</th>\n",
       "      <th>Glucose Value (mg/dL)</th>\n",
       "      <th>Insulin Value (u)</th>\n",
       "      <th>Carb Value (grams)</th>\n",
       "      <th>Duration (hh:mm:ss)</th>\n",
       "      <th>Glucose Rate of Change (mg/dL/min)</th>\n",
       "      <th>Transmitter Time (Long Integer)</th>\n",
       "    </tr>\n",
       "  </thead>\n",
       "  <tbody>\n",
       "    <tr>\n",
       "      <th>12</th>\n",
       "      <td>13</td>\n",
       "      <td>2020-07-16 10:48:24</td>\n",
       "      <td>EGV</td>\n",
       "      <td>NaN</td>\n",
       "      <td>NaN</td>\n",
       "      <td>NaN</td>\n",
       "      <td>iPhone G6</td>\n",
       "      <td>134.0</td>\n",
       "      <td>NaN</td>\n",
       "      <td>NaN</td>\n",
       "      <td>NaN</td>\n",
       "      <td>NaN</td>\n",
       "      <td>8400.0</td>\n",
       "    </tr>\n",
       "    <tr>\n",
       "      <th>13</th>\n",
       "      <td>14</td>\n",
       "      <td>2020-07-16 10:53:24</td>\n",
       "      <td>EGV</td>\n",
       "      <td>NaN</td>\n",
       "      <td>NaN</td>\n",
       "      <td>NaN</td>\n",
       "      <td>iPhone G6</td>\n",
       "      <td>130.0</td>\n",
       "      <td>NaN</td>\n",
       "      <td>NaN</td>\n",
       "      <td>NaN</td>\n",
       "      <td>NaN</td>\n",
       "      <td>8700.0</td>\n",
       "    </tr>\n",
       "    <tr>\n",
       "      <th>14</th>\n",
       "      <td>15</td>\n",
       "      <td>2020-07-16 10:58:24</td>\n",
       "      <td>EGV</td>\n",
       "      <td>NaN</td>\n",
       "      <td>NaN</td>\n",
       "      <td>NaN</td>\n",
       "      <td>iPhone G6</td>\n",
       "      <td>127.0</td>\n",
       "      <td>NaN</td>\n",
       "      <td>NaN</td>\n",
       "      <td>NaN</td>\n",
       "      <td>NaN</td>\n",
       "      <td>9000.0</td>\n",
       "    </tr>\n",
       "    <tr>\n",
       "      <th>15</th>\n",
       "      <td>16</td>\n",
       "      <td>2020-07-16 11:03:25</td>\n",
       "      <td>EGV</td>\n",
       "      <td>NaN</td>\n",
       "      <td>NaN</td>\n",
       "      <td>NaN</td>\n",
       "      <td>iPhone G6</td>\n",
       "      <td>122.0</td>\n",
       "      <td>NaN</td>\n",
       "      <td>NaN</td>\n",
       "      <td>NaN</td>\n",
       "      <td>NaN</td>\n",
       "      <td>9300.0</td>\n",
       "    </tr>\n",
       "    <tr>\n",
       "      <th>16</th>\n",
       "      <td>17</td>\n",
       "      <td>2020-07-16 11:08:24</td>\n",
       "      <td>EGV</td>\n",
       "      <td>NaN</td>\n",
       "      <td>NaN</td>\n",
       "      <td>NaN</td>\n",
       "      <td>iPhone G6</td>\n",
       "      <td>121.0</td>\n",
       "      <td>NaN</td>\n",
       "      <td>NaN</td>\n",
       "      <td>NaN</td>\n",
       "      <td>NaN</td>\n",
       "      <td>9600.0</td>\n",
       "    </tr>\n",
       "  </tbody>\n",
       "</table>\n",
       "</div>"
      ],
      "text/plain": [
       "    Index Timestamp (YYYY-MM-DDThh:mm:ss) Event Type Event Subtype  \\\n",
       "12     13             2020-07-16 10:48:24        EGV           NaN   \n",
       "13     14             2020-07-16 10:53:24        EGV           NaN   \n",
       "14     15             2020-07-16 10:58:24        EGV           NaN   \n",
       "15     16             2020-07-16 11:03:25        EGV           NaN   \n",
       "16     17             2020-07-16 11:08:24        EGV           NaN   \n",
       "\n",
       "   Patient Info Device Info Source Device ID  Glucose Value (mg/dL)  \\\n",
       "12          NaN         NaN        iPhone G6                  134.0   \n",
       "13          NaN         NaN        iPhone G6                  130.0   \n",
       "14          NaN         NaN        iPhone G6                  127.0   \n",
       "15          NaN         NaN        iPhone G6                  122.0   \n",
       "16          NaN         NaN        iPhone G6                  121.0   \n",
       "\n",
       "    Insulin Value (u)  Carb Value (grams) Duration (hh:mm:ss)  \\\n",
       "12                NaN                 NaN                 NaN   \n",
       "13                NaN                 NaN                 NaN   \n",
       "14                NaN                 NaN                 NaN   \n",
       "15                NaN                 NaN                 NaN   \n",
       "16                NaN                 NaN                 NaN   \n",
       "\n",
       "    Glucose Rate of Change (mg/dL/min)  Transmitter Time (Long Integer)  \n",
       "12                                 NaN                           8400.0  \n",
       "13                                 NaN                           8700.0  \n",
       "14                                 NaN                           9000.0  \n",
       "15                                 NaN                           9300.0  \n",
       "16                                 NaN                           9600.0  "
      ]
     },
     "execution_count": 272,
     "metadata": {},
     "output_type": "execute_result"
    }
   ],
   "source": [
    "glucose_values.head()"
   ]
  },
  {
   "cell_type": "code",
   "execution_count": 273,
   "metadata": {},
   "outputs": [
    {
     "name": "stdout",
     "output_type": "stream",
     "text": [
      "<class 'pandas.core.frame.DataFrame'>\n",
      "RangeIndex: 2276 entries, 12 to 2287\n",
      "Data columns (total 13 columns):\n",
      " #   Column                              Non-Null Count  Dtype  \n",
      "---  ------                              --------------  -----  \n",
      " 0   Index                               2276 non-null   int64  \n",
      " 1   Timestamp (YYYY-MM-DDThh:mm:ss)     2276 non-null   object \n",
      " 2   Event Type                          2276 non-null   object \n",
      " 3   Event Subtype                       0 non-null      object \n",
      " 4   Patient Info                        0 non-null      object \n",
      " 5   Device Info                         0 non-null      object \n",
      " 6   Source Device ID                    2276 non-null   object \n",
      " 7   Glucose Value (mg/dL)               2276 non-null   float64\n",
      " 8   Insulin Value (u)                   0 non-null      float64\n",
      " 9   Carb Value (grams)                  0 non-null      float64\n",
      " 10  Duration (hh:mm:ss)                 0 non-null      object \n",
      " 11  Glucose Rate of Change (mg/dL/min)  0 non-null      float64\n",
      " 12  Transmitter Time (Long Integer)     2276 non-null   float64\n",
      "dtypes: float64(5), int64(1), object(7)\n",
      "memory usage: 231.3+ KB\n"
     ]
    }
   ],
   "source": [
    "glucose_values.info()"
   ]
  },
  {
   "cell_type": "code",
   "execution_count": 274,
   "metadata": {},
   "outputs": [
    {
     "data": {
      "text/plain": [
       "Index                                 2276\n",
       "Timestamp (YYYY-MM-DDThh:mm:ss)       2276\n",
       "Event Type                            2276\n",
       "Event Subtype                            0\n",
       "Patient Info                             0\n",
       "Device Info                              0\n",
       "Source Device ID                      2276\n",
       "Glucose Value (mg/dL)                 2276\n",
       "Insulin Value (u)                        0\n",
       "Carb Value (grams)                       0\n",
       "Duration (hh:mm:ss)                      0\n",
       "Glucose Rate of Change (mg/dL/min)       0\n",
       "Transmitter Time (Long Integer)       2276\n",
       "dtype: int64"
      ]
     },
     "execution_count": 274,
     "metadata": {},
     "output_type": "execute_result"
    }
   ],
   "source": [
    "glucose_values.count()"
   ]
  },
  {
   "cell_type": "code",
   "execution_count": 275,
   "metadata": {},
   "outputs": [],
   "source": [
    "glucose_values[\"Timestamp (YYYY-MM-DDThh:mm:ss)\"].head()\n",
    "columns_to_remove = ['Index','Event Subtype','Patient Info','Device Info','Insulin Value (u)','Carb Value (grams)','Duration (hh:mm:ss)','Glucose Rate of Change (mg/dL/min)']\n",
    "# Removemos las columnas que no necesitamos por ahora\n",
    "glucose_values = glucose_values.drop(columns=columns_to_remove)"
   ]
  },
  {
   "cell_type": "markdown",
   "metadata": {},
   "source": [
    "### Trabajando con Datetime\n",
    "Lo primero sera convertir los datetime a el formato correcto, ya que lo esta detectando como object, lo siguiente sera colocar como index las fechas y al final agrupar por cada 5 minutos los datos para obtener el promedio y media de los datos\n"
   ]
  },
  {
   "cell_type": "code",
   "execution_count": 276,
   "metadata": {},
   "outputs": [
    {
     "name": "stdout",
     "output_type": "stream",
     "text": [
      "Index(['Timestamp (YYYY-MM-DDThh:mm:ss)', 'Event Type', 'Source Device ID',\n",
      "       'glucose', 'Transmitter Time (Long Integer)', 'datetime'],\n",
      "      dtype='object')\n"
     ]
    }
   ],
   "source": [
    "# Convertimos en fechas los datimetimes\n",
    "glucose_values['datetime'] = pd.to_datetime(glucose_values['Timestamp (YYYY-MM-DDThh:mm:ss)'])\n",
    "glucose_values = glucose_values.rename(columns={'Glucose Value (mg/dL)': 'glucose'})\n",
    "print(glucose_values.columns)"
   ]
  },
  {
   "cell_type": "code",
   "execution_count": 277,
   "metadata": {},
   "outputs": [
    {
     "name": "stdout",
     "output_type": "stream",
     "text": [
      "Index(['Timestamp (YYYY-MM-DDThh:mm:ss)', 'Event Type', 'Source Device ID',\n",
      "       'glucose', 'Transmitter Time (Long Integer)'],\n",
      "      dtype='object')\n"
     ]
    }
   ],
   "source": [
    "\n",
    "\n",
    "## Se coloca indices como datetime\n",
    "glucose_values = glucose_values.set_index('datetime')\n",
    "print(glucose_values.columns)\n"
   ]
  },
  {
   "cell_type": "code",
   "execution_count": 278,
   "metadata": {},
   "outputs": [],
   "source": [
    "df_procesado_5min = glucose_values['glucose'].resample('5min') \n",
    "df_procesado_1hora = glucose_values['glucose'].resample('1h')"
   ]
  },
  {
   "cell_type": "markdown",
   "metadata": {},
   "source": [
    "### Calculamos el valor de Glucosa de los 5 minutos\n",
    "\n",
    "Solo recuperamos el valor de glucosa con los correspondientes 5 minutos del paciente"
   ]
  },
  {
   "cell_type": "code",
   "execution_count": 279,
   "metadata": {},
   "outputs": [
    {
     "name": "stdout",
     "output_type": "stream",
     "text": [
      "Index(['mean'], dtype='object')\n"
     ]
    },
    {
     "data": {
      "text/html": [
       "<div>\n",
       "<style scoped>\n",
       "    .dataframe tbody tr th:only-of-type {\n",
       "        vertical-align: middle;\n",
       "    }\n",
       "\n",
       "    .dataframe tbody tr th {\n",
       "        vertical-align: top;\n",
       "    }\n",
       "\n",
       "    .dataframe thead th {\n",
       "        text-align: right;\n",
       "    }\n",
       "</style>\n",
       "<table border=\"1\" class=\"dataframe\">\n",
       "  <thead>\n",
       "    <tr style=\"text-align: right;\">\n",
       "      <th></th>\n",
       "      <th>mean</th>\n",
       "    </tr>\n",
       "    <tr>\n",
       "      <th>datetime</th>\n",
       "      <th></th>\n",
       "    </tr>\n",
       "  </thead>\n",
       "  <tbody>\n",
       "    <tr>\n",
       "      <th>2020-07-16 10:45:00</th>\n",
       "      <td>134.0</td>\n",
       "    </tr>\n",
       "    <tr>\n",
       "      <th>2020-07-16 10:50:00</th>\n",
       "      <td>130.0</td>\n",
       "    </tr>\n",
       "    <tr>\n",
       "      <th>2020-07-16 10:55:00</th>\n",
       "      <td>127.0</td>\n",
       "    </tr>\n",
       "    <tr>\n",
       "      <th>2020-07-16 11:00:00</th>\n",
       "      <td>122.0</td>\n",
       "    </tr>\n",
       "    <tr>\n",
       "      <th>2020-07-16 11:05:00</th>\n",
       "      <td>121.0</td>\n",
       "    </tr>\n",
       "  </tbody>\n",
       "</table>\n",
       "</div>"
      ],
      "text/plain": [
       "                      mean\n",
       "datetime                  \n",
       "2020-07-16 10:45:00  134.0\n",
       "2020-07-16 10:50:00  130.0\n",
       "2020-07-16 10:55:00  127.0\n",
       "2020-07-16 11:00:00  122.0\n",
       "2020-07-16 11:05:00  121.0"
      ]
     },
     "execution_count": 279,
     "metadata": {},
     "output_type": "execute_result"
    }
   ],
   "source": [
    "# Definimos los metodos del dataframe a calcular\n",
    "df_5min = df_procesado_5min.agg(['mean'])\n",
    "df_1hora = df_procesado_1hora.agg(['mean'])\n",
    "print(df_5min.columns)\n",
    "\n",
    "df_5min.head()"
   ]
  },
  {
   "cell_type": "code",
   "execution_count": 280,
   "metadata": {},
   "outputs": [
    {
     "data": {
      "text/plain": [
       "glucose    2276\n",
       "dtype: int64"
      ]
     },
     "execution_count": 280,
     "metadata": {},
     "output_type": "execute_result"
    }
   ],
   "source": [
    "df_5min = df_5min.rename(columns={'mean': 'glucose'})\n",
    "df_1hora = df_1hora.rename(columns={'mean': 'glucose'})\n",
    "df_5min.count()"
   ]
  },
  {
   "cell_type": "code",
   "execution_count": 281,
   "metadata": {},
   "outputs": [],
   "source": [
    "df_5min = df_5min.fillna(0)\n",
    "df_1hora = df_1hora.fillna(0)"
   ]
  },
  {
   "cell_type": "code",
   "execution_count": 282,
   "metadata": {},
   "outputs": [],
   "source": [
    "# Exportamos los resultados en un csv\n",
    "df_5min.to_csv(\"Dexcom_5min_\"+PACIENTE+\".csv\")\n",
    "df_1hora.to_csv(\"Dexcom_1hora_\"+PACIENTE+\".csv\")"
   ]
  },
  {
   "cell_type": "markdown",
   "metadata": {},
   "source": [
    "### ARCHIVOS CSV GENERADOS CON EXITO PARA 5 MIN"
   ]
  }
 ],
 "metadata": {
  "kernelspec": {
   "display_name": "Python 3",
   "language": "python",
   "name": "python3"
  },
  "language_info": {
   "codemirror_mode": {
    "name": "ipython",
    "version": 3
   },
   "file_extension": ".py",
   "mimetype": "text/x-python",
   "name": "python",
   "nbconvert_exporter": "python",
   "pygments_lexer": "ipython3",
   "version": "3.11.3"
  }
 },
 "nbformat": 4,
 "nbformat_minor": 2
}
