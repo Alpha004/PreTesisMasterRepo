{
 "cells": [
  {
   "cell_type": "markdown",
   "metadata": {},
   "source": [
    "## ANALISIS DE DATOS DE ACTIVIDAD ELCTRODERMICA (EDA)\n",
    "\n",
    "El presente es para analizar los datos de la actividad electrodermica del smartwatch, el cual tiene un procesamiento de datos en 4 Hz"
   ]
  },
  {
   "cell_type": "code",
   "execution_count": 582,
   "metadata": {},
   "outputs": [],
   "source": [
    "# Importando Pandas y otras librerias\n",
    "import pandas as pd\n",
    "import numpy as np"
   ]
  },
  {
   "cell_type": "code",
   "execution_count": 583,
   "metadata": {},
   "outputs": [],
   "source": [
    "PACIENTE = '016'\n",
    "PATH_FOLDER = 'G:\\\\Dataset\\\\big-ideas-lab-glycemic-variability-and-wearable-device-data-1.1.2\\\\'+PACIENTE+'\\\\'"
   ]
  },
  {
   "cell_type": "code",
   "execution_count": 584,
   "metadata": {},
   "outputs": [],
   "source": [
    "# Parametros para calcular los picos\n",
    "PROMINENCIA = 0.3\n",
    "DISTANCIA = 4"
   ]
  },
  {
   "cell_type": "code",
   "execution_count": 585,
   "metadata": {},
   "outputs": [],
   "source": [
    "# Leyendo el CSV\n",
    "eda_values = pd.read_csv(PATH_FOLDER + 'EDA_'+PACIENTE+'.csv', engine='python', na_values=\"not available\")"
   ]
  },
  {
   "cell_type": "code",
   "execution_count": 586,
   "metadata": {},
   "outputs": [
    {
     "data": {
      "text/html": [
       "<div>\n",
       "<style scoped>\n",
       "    .dataframe tbody tr th:only-of-type {\n",
       "        vertical-align: middle;\n",
       "    }\n",
       "\n",
       "    .dataframe tbody tr th {\n",
       "        vertical-align: top;\n",
       "    }\n",
       "\n",
       "    .dataframe thead th {\n",
       "        text-align: right;\n",
       "    }\n",
       "</style>\n",
       "<table border=\"1\" class=\"dataframe\">\n",
       "  <thead>\n",
       "    <tr style=\"text-align: right;\">\n",
       "      <th></th>\n",
       "      <th>datetime</th>\n",
       "      <th>eda</th>\n",
       "    </tr>\n",
       "  </thead>\n",
       "  <tbody>\n",
       "    <tr>\n",
       "      <th>0</th>\n",
       "      <td>2020-07-16 09:29:03.000</td>\n",
       "      <td>0.000000</td>\n",
       "    </tr>\n",
       "    <tr>\n",
       "      <th>1</th>\n",
       "      <td>2020-07-16 09:29:03.250</td>\n",
       "      <td>0.840149</td>\n",
       "    </tr>\n",
       "    <tr>\n",
       "      <th>2</th>\n",
       "      <td>2020-07-16 09:29:03.500</td>\n",
       "      <td>0.457482</td>\n",
       "    </tr>\n",
       "    <tr>\n",
       "      <th>3</th>\n",
       "      <td>2020-07-16 09:29:03.750</td>\n",
       "      <td>0.000000</td>\n",
       "    </tr>\n",
       "    <tr>\n",
       "      <th>4</th>\n",
       "      <td>2020-07-16 09:29:04.000</td>\n",
       "      <td>0.052509</td>\n",
       "    </tr>\n",
       "    <tr>\n",
       "      <th>5</th>\n",
       "      <td>2020-07-16 09:29:04.250</td>\n",
       "      <td>0.076843</td>\n",
       "    </tr>\n",
       "    <tr>\n",
       "      <th>6</th>\n",
       "      <td>2020-07-16 09:29:04.500</td>\n",
       "      <td>0.176739</td>\n",
       "    </tr>\n",
       "    <tr>\n",
       "      <th>7</th>\n",
       "      <td>2020-07-16 09:29:04.750</td>\n",
       "      <td>0.006404</td>\n",
       "    </tr>\n",
       "    <tr>\n",
       "      <th>8</th>\n",
       "      <td>2020-07-16 09:29:05.000</td>\n",
       "      <td>0.010246</td>\n",
       "    </tr>\n",
       "    <tr>\n",
       "      <th>9</th>\n",
       "      <td>2020-07-16 09:29:05.250</td>\n",
       "      <td>0.011526</td>\n",
       "    </tr>\n",
       "  </tbody>\n",
       "</table>\n",
       "</div>"
      ],
      "text/plain": [
       "                  datetime       eda\n",
       "0  2020-07-16 09:29:03.000  0.000000\n",
       "1  2020-07-16 09:29:03.250  0.840149\n",
       "2  2020-07-16 09:29:03.500  0.457482\n",
       "3  2020-07-16 09:29:03.750  0.000000\n",
       "4  2020-07-16 09:29:04.000  0.052509\n",
       "5  2020-07-16 09:29:04.250  0.076843\n",
       "6  2020-07-16 09:29:04.500  0.176739\n",
       "7  2020-07-16 09:29:04.750  0.006404\n",
       "8  2020-07-16 09:29:05.000  0.010246\n",
       "9  2020-07-16 09:29:05.250  0.011526"
      ]
     },
     "execution_count": 586,
     "metadata": {},
     "output_type": "execute_result"
    }
   ],
   "source": [
    "eda_values.head(10)"
   ]
  },
  {
   "cell_type": "code",
   "execution_count": 587,
   "metadata": {},
   "outputs": [
    {
     "name": "stdout",
     "output_type": "stream",
     "text": [
      "<class 'pandas.core.frame.DataFrame'>\n",
      "RangeIndex: 2232594 entries, 0 to 2232593\n",
      "Data columns (total 2 columns):\n",
      " #   Column    Dtype  \n",
      "---  ------    -----  \n",
      " 0   datetime  object \n",
      " 1    eda      float64\n",
      "dtypes: float64(1), object(1)\n",
      "memory usage: 34.1+ MB\n"
     ]
    }
   ],
   "source": [
    "eda_values.info()"
   ]
  },
  {
   "cell_type": "code",
   "execution_count": 588,
   "metadata": {},
   "outputs": [
    {
     "data": {
      "text/plain": [
       "datetime    2232594\n",
       " eda        2232594\n",
       "dtype: int64"
      ]
     },
     "execution_count": 588,
     "metadata": {},
     "output_type": "execute_result"
    }
   ],
   "source": [
    "eda_values.count()"
   ]
  },
  {
   "cell_type": "code",
   "execution_count": 589,
   "metadata": {},
   "outputs": [
    {
     "data": {
      "text/plain": [
       "0    2020-07-16 09:29:03.000\n",
       "1    2020-07-16 09:29:03.250\n",
       "2    2020-07-16 09:29:03.500\n",
       "3    2020-07-16 09:29:03.750\n",
       "4    2020-07-16 09:29:04.000\n",
       "Name: datetime, dtype: object"
      ]
     },
     "execution_count": 589,
     "metadata": {},
     "output_type": "execute_result"
    }
   ],
   "source": [
    "eda_values[\"datetime\"].head()"
   ]
  },
  {
   "cell_type": "markdown",
   "metadata": {},
   "source": [
    "## Trabajando para detectar los picos\n",
    "Este proceso vamos a realizar graficos de la data para poder definir los valores de estres que como se menciona en la documentacion tiene una importancia de 8.2% sobre la importancia para definir el nivel de glucosa"
   ]
  },
  {
   "cell_type": "code",
   "execution_count": 590,
   "metadata": {},
   "outputs": [
    {
     "data": {
      "text/plain": [
       "<Axes: >"
      ]
     },
     "execution_count": 590,
     "metadata": {},
     "output_type": "execute_result"
    },
    {
     "data": {
      "image/png": "[encoded data removed]",
      "text/plain": [
       "<Figure size 640x480 with 1 Axes>"
      ]
     },
     "metadata": {},
     "output_type": "display_data"
    }
   ],
   "source": [
    "eda_values.plot()"
   ]
  },
  {
   "cell_type": "code",
   "execution_count": 591,
   "metadata": {},
   "outputs": [],
   "source": [
    "import seaborn as sns\n",
    "from scipy.signal import find_peaks as fp"
   ]
  },
  {
   "cell_type": "markdown",
   "metadata": {},
   "source": [
    "## Deteccion de picos de EDA para definir el estres"
   ]
  },
  {
   "cell_type": "code",
   "execution_count": 592,
   "metadata": {},
   "outputs": [
    {
     "data": {
      "text/plain": [
       "array([      1,      27,      31, ..., 2227835, 2227876, 2229824],\n",
       "      dtype=int64)"
      ]
     },
     "execution_count": 592,
     "metadata": {},
     "output_type": "execute_result"
    }
   ],
   "source": [
    "p2, _ = fp(eda_values[' eda'], prominence=PROMINENCIA,distance=DISTANCIA)\n",
    "p2"
   ]
  },
  {
   "cell_type": "code",
   "execution_count": 593,
   "metadata": {},
   "outputs": [],
   "source": [
    "# MOSTRAMOS EL GRAFICO CON LOS PICOS CON LA PROMINENCIA INDICADA EN 0.3\n",
    "# sns.scatterplot(data=eda_values.iloc[p2],\n",
    "#                 x='datetime',\n",
    "#                 y=' eda',\n",
    "#                 color='green',\n",
    "#                 alpha=0.5)"
   ]
  },
  {
   "cell_type": "code",
   "execution_count": 594,
   "metadata": {},
   "outputs": [
    {
     "data": {
      "text/html": [
       "<div>\n",
       "<style scoped>\n",
       "    .dataframe tbody tr th:only-of-type {\n",
       "        vertical-align: middle;\n",
       "    }\n",
       "\n",
       "    .dataframe tbody tr th {\n",
       "        vertical-align: top;\n",
       "    }\n",
       "\n",
       "    .dataframe thead th {\n",
       "        text-align: right;\n",
       "    }\n",
       "</style>\n",
       "<table border=\"1\" class=\"dataframe\">\n",
       "  <thead>\n",
       "    <tr style=\"text-align: right;\">\n",
       "      <th></th>\n",
       "      <th>indice</th>\n",
       "    </tr>\n",
       "  </thead>\n",
       "  <tbody>\n",
       "    <tr>\n",
       "      <th>1</th>\n",
       "      <td>1</td>\n",
       "    </tr>\n",
       "    <tr>\n",
       "      <th>27</th>\n",
       "      <td>27</td>\n",
       "    </tr>\n",
       "    <tr>\n",
       "      <th>31</th>\n",
       "      <td>31</td>\n",
       "    </tr>\n",
       "    <tr>\n",
       "      <th>35</th>\n",
       "      <td>35</td>\n",
       "    </tr>\n",
       "    <tr>\n",
       "      <th>54</th>\n",
       "      <td>54</td>\n",
       "    </tr>\n",
       "  </tbody>\n",
       "</table>\n",
       "</div>"
      ],
      "text/plain": [
       "    indice\n",
       "1        1\n",
       "27      27\n",
       "31      31\n",
       "35      35\n",
       "54      54"
      ]
     },
     "execution_count": 594,
     "metadata": {},
     "output_type": "execute_result"
    }
   ],
   "source": [
    "# Extraemos los indices\n",
    "p2 = pd.DataFrame(p2, index=p2, columns=['indice'])\n",
    "p2.head()"
   ]
  },
  {
   "cell_type": "code",
   "execution_count": 595,
   "metadata": {},
   "outputs": [
    {
     "name": "stdout",
     "output_type": "stream",
     "text": [
      "                   datetime       eda  peak\n",
      "0   2020-07-16 09:29:03.000  0.000000     0\n",
      "1   2020-07-16 09:29:03.250  0.840149     1\n",
      "2   2020-07-16 09:29:03.500  0.457482     0\n",
      "3   2020-07-16 09:29:03.750  0.000000     0\n",
      "4   2020-07-16 09:29:04.000  0.052509     0\n",
      "5   2020-07-16 09:29:04.250  0.076843     0\n",
      "6   2020-07-16 09:29:04.500  0.176739     0\n",
      "7   2020-07-16 09:29:04.750  0.006404     0\n",
      "8   2020-07-16 09:29:05.000  0.010246     0\n",
      "9   2020-07-16 09:29:05.250  0.011526     0\n",
      "10  2020-07-16 09:29:05.500  0.011526     0\n",
      "11  2020-07-16 09:29:05.750  0.012807     0\n",
      "12  2020-07-16 09:29:06.000  0.014088     0\n",
      "13  2020-07-16 09:29:06.250  0.012807     0\n",
      "14  2020-07-16 09:29:06.500  0.015369     0\n",
      "15  2020-07-16 09:29:06.750  0.014088     0\n",
      "16  2020-07-16 09:29:07.000  0.015369     0\n",
      "17  2020-07-16 09:29:07.250  0.015369     0\n",
      "18  2020-07-16 09:29:07.500  0.078124     0\n",
      "19  2020-07-16 09:29:07.750  0.335547     0\n",
      "20  2020-07-16 09:29:08.000  0.838868     0\n",
      "21  2020-07-16 09:29:08.250  1.186208     0\n",
      "22  2020-07-16 09:29:08.500  1.624281     0\n",
      "23  2020-07-16 09:29:08.750  2.041893     0\n",
      "24  2020-07-16 09:29:09.000  2.303358     0\n",
      "25  2020-07-16 09:29:09.250  2.350744     0\n",
      "26  2020-07-16 09:29:09.500  2.352025     0\n",
      "27  2020-07-16 09:29:09.750  2.590238     1\n",
      "28  2020-07-16 09:29:10.000  1.826659     0\n",
      "29  2020-07-16 09:29:10.250  1.379963     0\n",
      "30  2020-07-16 09:29:10.500  1.972735     0\n",
      "31  2020-07-16 09:29:10.750  2.391727     1\n",
      "32  2020-07-16 09:29:11.000  1.998548     0\n",
      "33  2020-07-16 09:29:11.250  2.541571     0\n",
      "34  2020-07-16 09:29:11.500  2.700106     0\n"
     ]
    }
   ],
   "source": [
    "# Añadimos en el dataset los picos detectados\n",
    "eda_values['peak'] = 0\n",
    "eda_values.loc[p2.index, 'peak'] = 1\n",
    "print(eda_values.head(35))"
   ]
  },
  {
   "cell_type": "markdown",
   "metadata": {},
   "source": [
    "### Trabajando con Datetime\n",
    "Lo primero sera convertir los datetime a el formato correcto, ya que lo esta detectando como object, lo siguiente sera colocar como index las fechas y al final agrupar por cada 5 minutos los datos para obtener el promedio y media de los datos\n"
   ]
  },
  {
   "cell_type": "code",
   "execution_count": 596,
   "metadata": {},
   "outputs": [],
   "source": [
    "# Convertimos en fechas los datimetimes\n",
    "eda_values['datetime'] = pd.to_datetime(eda_values['datetime'])"
   ]
  },
  {
   "cell_type": "code",
   "execution_count": 597,
   "metadata": {},
   "outputs": [
    {
     "data": {
      "text/html": [
       "<div>\n",
       "<style scoped>\n",
       "    .dataframe tbody tr th:only-of-type {\n",
       "        vertical-align: middle;\n",
       "    }\n",
       "\n",
       "    .dataframe tbody tr th {\n",
       "        vertical-align: top;\n",
       "    }\n",
       "\n",
       "    .dataframe thead th {\n",
       "        text-align: right;\n",
       "    }\n",
       "</style>\n",
       "<table border=\"1\" class=\"dataframe\">\n",
       "  <thead>\n",
       "    <tr style=\"text-align: right;\">\n",
       "      <th></th>\n",
       "      <th>datetime</th>\n",
       "      <th>eda</th>\n",
       "      <th>peak</th>\n",
       "    </tr>\n",
       "  </thead>\n",
       "  <tbody>\n",
       "    <tr>\n",
       "      <th>0</th>\n",
       "      <td>2020-07-16 09:29:03.000</td>\n",
       "      <td>0.000000</td>\n",
       "      <td>0</td>\n",
       "    </tr>\n",
       "    <tr>\n",
       "      <th>1</th>\n",
       "      <td>2020-07-16 09:29:03.250</td>\n",
       "      <td>0.840149</td>\n",
       "      <td>1</td>\n",
       "    </tr>\n",
       "    <tr>\n",
       "      <th>2</th>\n",
       "      <td>2020-07-16 09:29:03.500</td>\n",
       "      <td>0.457482</td>\n",
       "      <td>0</td>\n",
       "    </tr>\n",
       "    <tr>\n",
       "      <th>3</th>\n",
       "      <td>2020-07-16 09:29:03.750</td>\n",
       "      <td>0.000000</td>\n",
       "      <td>0</td>\n",
       "    </tr>\n",
       "    <tr>\n",
       "      <th>4</th>\n",
       "      <td>2020-07-16 09:29:04.000</td>\n",
       "      <td>0.052509</td>\n",
       "      <td>0</td>\n",
       "    </tr>\n",
       "  </tbody>\n",
       "</table>\n",
       "</div>"
      ],
      "text/plain": [
       "                 datetime       eda  peak\n",
       "0 2020-07-16 09:29:03.000  0.000000     0\n",
       "1 2020-07-16 09:29:03.250  0.840149     1\n",
       "2 2020-07-16 09:29:03.500  0.457482     0\n",
       "3 2020-07-16 09:29:03.750  0.000000     0\n",
       "4 2020-07-16 09:29:04.000  0.052509     0"
      ]
     },
     "execution_count": 597,
     "metadata": {},
     "output_type": "execute_result"
    }
   ],
   "source": [
    "eda_values.head()"
   ]
  },
  {
   "cell_type": "code",
   "execution_count": 598,
   "metadata": {},
   "outputs": [
    {
     "name": "stdout",
     "output_type": "stream",
     "text": [
      "Index([' eda', 'peak'], dtype='object')\n"
     ]
    }
   ],
   "source": [
    "\n",
    "## Se coloca indices como datetime\n",
    "eda_values = eda_values.set_index('datetime')\n",
    "print(eda_values.columns)\n"
   ]
  },
  {
   "cell_type": "code",
   "execution_count": 599,
   "metadata": {},
   "outputs": [
    {
     "name": "stdout",
     "output_type": "stream",
     "text": [
      "Datos generados en 5 min de agrupacion\n"
     ]
    }
   ],
   "source": [
    "# Trabajamos con un dataset de EDA values para agruparlo por 5 min\n",
    "df_procesado_5min = eda_values[' eda'].resample('5min') \n",
    "# Para picos tambien\n",
    "df_procesado_5min_picos = eda_values['peak'].resample('5min')\n",
    "print('Datos generados en 5 min de agrupacion')"
   ]
  },
  {
   "cell_type": "markdown",
   "metadata": {},
   "source": [
    "### Calculamos le media, la mediana y demas factores de estadistica\n",
    "\n",
    "En este caso tenemos que obtener el promedio, mediana, max, min, desviacion estandar y quartiles"
   ]
  },
  {
   "cell_type": "code",
   "execution_count": 600,
   "metadata": {},
   "outputs": [],
   "source": [
    "# Funcion para calcular los cuartiles 1 y 3 que indican en el paper\n",
    "# \n",
    "def quartiles(x):\n",
    "    return pd.Series([x.quantile(0.25), x.quantile(0.75)], index=['q1', 'q3'])\n"
   ]
  },
  {
   "cell_type": "code",
   "execution_count": 601,
   "metadata": {},
   "outputs": [
    {
     "data": {
      "text/plain": [
       "q1    datetime\n",
       "2020-07-16 09:25:00    0.005123\n",
       "2020-...\n",
       "q3    datetime\n",
       "2020-07-16 09:25:00    0.335883\n",
       "2020-...\n",
       "dtype: object"
      ]
     },
     "execution_count": 601,
     "metadata": {},
     "output_type": "execute_result"
    }
   ],
   "source": [
    "# Crear a serie de dataframe de 5 min\n",
    "series5min = quartiles(df_procesado_5min)\n",
    "series5min.head()"
   ]
  },
  {
   "cell_type": "markdown",
   "metadata": {},
   "source": [
    "### Aplicamos los calculos estadisticos\n",
    "Para este punto, tenemos 2 arrays de datos de EDA agrupados en 5 minutos y datos de picos de EDA agrupados en 5 min, ambos arrays distintos, a este punto vamos a generar la media, mediana, max, min, std, etc para esos valores.\n",
    "En el caso de picos solo queremos conocer que tan comun fue el pico en estos 5 minutos, ello con el promedio, y la cantidad de picos en ese transcurso."
   ]
  },
  {
   "cell_type": "code",
   "execution_count": 602,
   "metadata": {},
   "outputs": [
    {
     "name": "stdout",
     "output_type": "stream",
     "text": [
      "Index(['mean', 'median', 'max', 'min', 'std'], dtype='object')\n"
     ]
    },
    {
     "data": {
      "text/html": [
       "<div>\n",
       "<style scoped>\n",
       "    .dataframe tbody tr th:only-of-type {\n",
       "        vertical-align: middle;\n",
       "    }\n",
       "\n",
       "    .dataframe tbody tr th {\n",
       "        vertical-align: top;\n",
       "    }\n",
       "\n",
       "    .dataframe thead th {\n",
       "        text-align: right;\n",
       "    }\n",
       "</style>\n",
       "<table border=\"1\" class=\"dataframe\">\n",
       "  <thead>\n",
       "    <tr style=\"text-align: right;\">\n",
       "      <th></th>\n",
       "      <th>mean</th>\n",
       "      <th>median</th>\n",
       "      <th>max</th>\n",
       "      <th>min</th>\n",
       "      <th>std</th>\n",
       "    </tr>\n",
       "    <tr>\n",
       "      <th>datetime</th>\n",
       "      <th></th>\n",
       "      <th></th>\n",
       "      <th></th>\n",
       "      <th></th>\n",
       "      <th></th>\n",
       "    </tr>\n",
       "  </thead>\n",
       "  <tbody>\n",
       "    <tr>\n",
       "      <th>2020-07-16 09:25:00</th>\n",
       "      <td>0.448949</td>\n",
       "      <td>0.064036</td>\n",
       "      <td>3.570595</td>\n",
       "      <td>0.000000</td>\n",
       "      <td>0.803402</td>\n",
       "    </tr>\n",
       "    <tr>\n",
       "      <th>2020-07-16 09:30:00</th>\n",
       "      <td>0.326691</td>\n",
       "      <td>0.372047</td>\n",
       "      <td>0.653164</td>\n",
       "      <td>0.016649</td>\n",
       "      <td>0.165484</td>\n",
       "    </tr>\n",
       "    <tr>\n",
       "      <th>2020-07-16 09:35:00</th>\n",
       "      <td>0.631900</td>\n",
       "      <td>0.631659</td>\n",
       "      <td>0.764853</td>\n",
       "      <td>0.506149</td>\n",
       "      <td>0.051198</td>\n",
       "    </tr>\n",
       "    <tr>\n",
       "      <th>2020-07-16 09:40:00</th>\n",
       "      <td>1.030635</td>\n",
       "      <td>1.036434</td>\n",
       "      <td>1.396314</td>\n",
       "      <td>0.658554</td>\n",
       "      <td>0.194995</td>\n",
       "    </tr>\n",
       "    <tr>\n",
       "      <th>2020-07-16 09:45:00</th>\n",
       "      <td>1.049776</td>\n",
       "      <td>1.044758</td>\n",
       "      <td>1.259278</td>\n",
       "      <td>0.846888</td>\n",
       "      <td>0.083042</td>\n",
       "    </tr>\n",
       "  </tbody>\n",
       "</table>\n",
       "</div>"
      ],
      "text/plain": [
       "                         mean    median       max       min       std\n",
       "datetime                                                             \n",
       "2020-07-16 09:25:00  0.448949  0.064036  3.570595  0.000000  0.803402\n",
       "2020-07-16 09:30:00  0.326691  0.372047  0.653164  0.016649  0.165484\n",
       "2020-07-16 09:35:00  0.631900  0.631659  0.764853  0.506149  0.051198\n",
       "2020-07-16 09:40:00  1.030635  1.036434  1.396314  0.658554  0.194995\n",
       "2020-07-16 09:45:00  1.049776  1.044758  1.259278  0.846888  0.083042"
      ]
     },
     "execution_count": 602,
     "metadata": {},
     "output_type": "execute_result"
    }
   ],
   "source": [
    "# Definimos los metodos del dataframe a calcular\n",
    "df_5min = df_procesado_5min.agg(['mean', 'median', 'max', 'min', 'std'])\n",
    "df_5min_peaks = df_procesado_5min_picos.agg({\n",
    "    'count': lambda x: (x == 1).sum(),\n",
    "    'promedio': 'mean'\n",
    "})\n",
    "print(df_5min.columns)\n",
    "df_5min.head()"
   ]
  },
  {
   "cell_type": "code",
   "execution_count": 603,
   "metadata": {},
   "outputs": [
    {
     "data": {
      "text/html": [
       "<div>\n",
       "<style scoped>\n",
       "    .dataframe tbody tr th:only-of-type {\n",
       "        vertical-align: middle;\n",
       "    }\n",
       "\n",
       "    .dataframe tbody tr th {\n",
       "        vertical-align: top;\n",
       "    }\n",
       "\n",
       "    .dataframe thead th {\n",
       "        text-align: right;\n",
       "    }\n",
       "</style>\n",
       "<table border=\"1\" class=\"dataframe\">\n",
       "  <thead>\n",
       "    <tr style=\"text-align: right;\">\n",
       "      <th></th>\n",
       "      <th>count</th>\n",
       "      <th>promedio</th>\n",
       "    </tr>\n",
       "    <tr>\n",
       "      <th>datetime</th>\n",
       "      <th></th>\n",
       "      <th></th>\n",
       "    </tr>\n",
       "  </thead>\n",
       "  <tbody>\n",
       "    <tr>\n",
       "      <th>2020-07-16 09:25:00</th>\n",
       "      <td>8</td>\n",
       "      <td>0.035088</td>\n",
       "    </tr>\n",
       "    <tr>\n",
       "      <th>2020-07-16 09:30:00</th>\n",
       "      <td>1</td>\n",
       "      <td>0.000833</td>\n",
       "    </tr>\n",
       "    <tr>\n",
       "      <th>2020-07-16 09:35:00</th>\n",
       "      <td>0</td>\n",
       "      <td>0.000000</td>\n",
       "    </tr>\n",
       "    <tr>\n",
       "      <th>2020-07-16 09:40:00</th>\n",
       "      <td>3</td>\n",
       "      <td>0.002500</td>\n",
       "    </tr>\n",
       "    <tr>\n",
       "      <th>2020-07-16 09:45:00</th>\n",
       "      <td>1</td>\n",
       "      <td>0.000833</td>\n",
       "    </tr>\n",
       "  </tbody>\n",
       "</table>\n",
       "</div>"
      ],
      "text/plain": [
       "                     count  promedio\n",
       "datetime                            \n",
       "2020-07-16 09:25:00      8  0.035088\n",
       "2020-07-16 09:30:00      1  0.000833\n",
       "2020-07-16 09:35:00      0  0.000000\n",
       "2020-07-16 09:40:00      3  0.002500\n",
       "2020-07-16 09:45:00      1  0.000833"
      ]
     },
     "execution_count": 603,
     "metadata": {},
     "output_type": "execute_result"
    }
   ],
   "source": [
    "df_5min_peaks.head()"
   ]
  },
  {
   "cell_type": "code",
   "execution_count": 604,
   "metadata": {},
   "outputs": [
    {
     "data": {
      "text/plain": [
       "mean      1866\n",
       "median    1866\n",
       "max       1866\n",
       "min       1866\n",
       "std       1866\n",
       "dtype: int64"
      ]
     },
     "execution_count": 604,
     "metadata": {},
     "output_type": "execute_result"
    }
   ],
   "source": [
    "df_5min.count()"
   ]
  },
  {
   "cell_type": "code",
   "execution_count": 605,
   "metadata": {},
   "outputs": [
    {
     "data": {
      "text/plain": [
       "count       2173\n",
       "promedio    1866\n",
       "dtype: int64"
      ]
     },
     "execution_count": 605,
     "metadata": {},
     "output_type": "execute_result"
    }
   ],
   "source": [
    "df_5min_peaks.count()"
   ]
  },
  {
   "cell_type": "code",
   "execution_count": 606,
   "metadata": {},
   "outputs": [
    {
     "data": {
      "text/html": [
       "<div>\n",
       "<style scoped>\n",
       "    .dataframe tbody tr th:only-of-type {\n",
       "        vertical-align: middle;\n",
       "    }\n",
       "\n",
       "    .dataframe tbody tr th {\n",
       "        vertical-align: top;\n",
       "    }\n",
       "\n",
       "    .dataframe thead th {\n",
       "        text-align: right;\n",
       "    }\n",
       "</style>\n",
       "<table border=\"1\" class=\"dataframe\">\n",
       "  <thead>\n",
       "    <tr style=\"text-align: right;\">\n",
       "      <th></th>\n",
       "      <th>mean</th>\n",
       "      <th>median</th>\n",
       "      <th>max</th>\n",
       "      <th>min</th>\n",
       "      <th>std</th>\n",
       "      <th>total_peaks</th>\n",
       "      <th>mean_peaks</th>\n",
       "    </tr>\n",
       "    <tr>\n",
       "      <th>datetime</th>\n",
       "      <th></th>\n",
       "      <th></th>\n",
       "      <th></th>\n",
       "      <th></th>\n",
       "      <th></th>\n",
       "      <th></th>\n",
       "      <th></th>\n",
       "    </tr>\n",
       "  </thead>\n",
       "  <tbody>\n",
       "    <tr>\n",
       "      <th>2020-07-16 09:25:00</th>\n",
       "      <td>0.448949</td>\n",
       "      <td>0.064036</td>\n",
       "      <td>3.570595</td>\n",
       "      <td>0.000000</td>\n",
       "      <td>0.803402</td>\n",
       "      <td>8</td>\n",
       "      <td>0.035088</td>\n",
       "    </tr>\n",
       "    <tr>\n",
       "      <th>2020-07-16 09:30:00</th>\n",
       "      <td>0.326691</td>\n",
       "      <td>0.372047</td>\n",
       "      <td>0.653164</td>\n",
       "      <td>0.016649</td>\n",
       "      <td>0.165484</td>\n",
       "      <td>1</td>\n",
       "      <td>0.000833</td>\n",
       "    </tr>\n",
       "    <tr>\n",
       "      <th>2020-07-16 09:35:00</th>\n",
       "      <td>0.631900</td>\n",
       "      <td>0.631659</td>\n",
       "      <td>0.764853</td>\n",
       "      <td>0.506149</td>\n",
       "      <td>0.051198</td>\n",
       "      <td>0</td>\n",
       "      <td>0.000000</td>\n",
       "    </tr>\n",
       "    <tr>\n",
       "      <th>2020-07-16 09:40:00</th>\n",
       "      <td>1.030635</td>\n",
       "      <td>1.036434</td>\n",
       "      <td>1.396314</td>\n",
       "      <td>0.658554</td>\n",
       "      <td>0.194995</td>\n",
       "      <td>3</td>\n",
       "      <td>0.002500</td>\n",
       "    </tr>\n",
       "    <tr>\n",
       "      <th>2020-07-16 09:45:00</th>\n",
       "      <td>1.049776</td>\n",
       "      <td>1.044758</td>\n",
       "      <td>1.259278</td>\n",
       "      <td>0.846888</td>\n",
       "      <td>0.083042</td>\n",
       "      <td>1</td>\n",
       "      <td>0.000833</td>\n",
       "    </tr>\n",
       "    <tr>\n",
       "      <th>2020-07-16 09:50:00</th>\n",
       "      <td>0.954326</td>\n",
       "      <td>0.968556</td>\n",
       "      <td>1.169628</td>\n",
       "      <td>0.759799</td>\n",
       "      <td>0.099029</td>\n",
       "      <td>0</td>\n",
       "      <td>0.000000</td>\n",
       "    </tr>\n",
       "    <tr>\n",
       "      <th>2020-07-16 09:55:00</th>\n",
       "      <td>0.659374</td>\n",
       "      <td>0.639412</td>\n",
       "      <td>0.981294</td>\n",
       "      <td>0.252567</td>\n",
       "      <td>0.108660</td>\n",
       "      <td>1</td>\n",
       "      <td>0.000833</td>\n",
       "    </tr>\n",
       "    <tr>\n",
       "      <th>2020-07-16 10:00:00</th>\n",
       "      <td>0.929366</td>\n",
       "      <td>0.899362</td>\n",
       "      <td>1.405279</td>\n",
       "      <td>0.702098</td>\n",
       "      <td>0.132848</td>\n",
       "      <td>5</td>\n",
       "      <td>0.004167</td>\n",
       "    </tr>\n",
       "    <tr>\n",
       "      <th>2020-07-16 10:05:00</th>\n",
       "      <td>1.148832</td>\n",
       "      <td>1.090224</td>\n",
       "      <td>1.780627</td>\n",
       "      <td>0.782852</td>\n",
       "      <td>0.220604</td>\n",
       "      <td>1</td>\n",
       "      <td>0.000833</td>\n",
       "    </tr>\n",
       "    <tr>\n",
       "      <th>2020-07-16 10:10:00</th>\n",
       "      <td>1.311897</td>\n",
       "      <td>1.316319</td>\n",
       "      <td>2.054700</td>\n",
       "      <td>0.899496</td>\n",
       "      <td>0.180745</td>\n",
       "      <td>19</td>\n",
       "      <td>0.015833</td>\n",
       "    </tr>\n",
       "  </tbody>\n",
       "</table>\n",
       "</div>"
      ],
      "text/plain": [
       "                         mean    median       max       min       std  \\\n",
       "datetime                                                                \n",
       "2020-07-16 09:25:00  0.448949  0.064036  3.570595  0.000000  0.803402   \n",
       "2020-07-16 09:30:00  0.326691  0.372047  0.653164  0.016649  0.165484   \n",
       "2020-07-16 09:35:00  0.631900  0.631659  0.764853  0.506149  0.051198   \n",
       "2020-07-16 09:40:00  1.030635  1.036434  1.396314  0.658554  0.194995   \n",
       "2020-07-16 09:45:00  1.049776  1.044758  1.259278  0.846888  0.083042   \n",
       "2020-07-16 09:50:00  0.954326  0.968556  1.169628  0.759799  0.099029   \n",
       "2020-07-16 09:55:00  0.659374  0.639412  0.981294  0.252567  0.108660   \n",
       "2020-07-16 10:00:00  0.929366  0.899362  1.405279  0.702098  0.132848   \n",
       "2020-07-16 10:05:00  1.148832  1.090224  1.780627  0.782852  0.220604   \n",
       "2020-07-16 10:10:00  1.311897  1.316319  2.054700  0.899496  0.180745   \n",
       "\n",
       "                     total_peaks  mean_peaks  \n",
       "datetime                                      \n",
       "2020-07-16 09:25:00            8    0.035088  \n",
       "2020-07-16 09:30:00            1    0.000833  \n",
       "2020-07-16 09:35:00            0    0.000000  \n",
       "2020-07-16 09:40:00            3    0.002500  \n",
       "2020-07-16 09:45:00            1    0.000833  \n",
       "2020-07-16 09:50:00            0    0.000000  \n",
       "2020-07-16 09:55:00            1    0.000833  \n",
       "2020-07-16 10:00:00            5    0.004167  \n",
       "2020-07-16 10:05:00            1    0.000833  \n",
       "2020-07-16 10:10:00           19    0.015833  "
      ]
     },
     "execution_count": 606,
     "metadata": {},
     "output_type": "execute_result"
    }
   ],
   "source": [
    "# Juntamos ambos valores ahora en un solo dataframe\n",
    "df_5min['total_peaks'] = df_5min_peaks['count']\n",
    "df_5min['mean_peaks'] = df_5min_peaks['promedio']\n",
    "df_5min.head(10)"
   ]
  },
  {
   "cell_type": "code",
   "execution_count": 607,
   "metadata": {},
   "outputs": [],
   "source": [
    "# Añadimos la columna de estres detectado\n",
    "\n",
    "df_5min['estres'] = np.where(df_5min['mean_peaks'] > 0, 1, 0)"
   ]
  },
  {
   "cell_type": "code",
   "execution_count": 608,
   "metadata": {},
   "outputs": [
    {
     "data": {
      "text/plain": [
       "mean           1866\n",
       "median         1866\n",
       "max            1866\n",
       "min            1866\n",
       "std            1866\n",
       "total_peaks    2173\n",
       "mean_peaks     1866\n",
       "estres         2173\n",
       "dtype: int64"
      ]
     },
     "execution_count": 608,
     "metadata": {},
     "output_type": "execute_result"
    }
   ],
   "source": [
    "df_5min.count()"
   ]
  },
  {
   "cell_type": "markdown",
   "metadata": {},
   "source": [
    "## DATASET DE 1 HORA\n",
    "Aplicamos exactamente lo mismo pero ahora aplicado a una hora"
   ]
  },
  {
   "cell_type": "code",
   "execution_count": 609,
   "metadata": {},
   "outputs": [
    {
     "data": {
      "text/html": [
       "<div>\n",
       "<style scoped>\n",
       "    .dataframe tbody tr th:only-of-type {\n",
       "        vertical-align: middle;\n",
       "    }\n",
       "\n",
       "    .dataframe tbody tr th {\n",
       "        vertical-align: top;\n",
       "    }\n",
       "\n",
       "    .dataframe thead th {\n",
       "        text-align: right;\n",
       "    }\n",
       "</style>\n",
       "<table border=\"1\" class=\"dataframe\">\n",
       "  <thead>\n",
       "    <tr style=\"text-align: right;\">\n",
       "      <th></th>\n",
       "      <th>mean</th>\n",
       "      <th>median</th>\n",
       "      <th>max</th>\n",
       "      <th>min</th>\n",
       "      <th>std</th>\n",
       "      <th>total_peaks</th>\n",
       "      <th>mean_peaks</th>\n",
       "      <th>estres</th>\n",
       "    </tr>\n",
       "    <tr>\n",
       "      <th>datetime</th>\n",
       "      <th></th>\n",
       "      <th></th>\n",
       "      <th></th>\n",
       "      <th></th>\n",
       "      <th></th>\n",
       "      <th></th>\n",
       "      <th></th>\n",
       "      <th></th>\n",
       "    </tr>\n",
       "  </thead>\n",
       "  <tbody>\n",
       "    <tr>\n",
       "      <th>2020-07-16 09:00:00</th>\n",
       "      <td>0.765428</td>\n",
       "      <td>0.766203</td>\n",
       "      <td>3.570595</td>\n",
       "      <td>0.000000</td>\n",
       "      <td>0.323079</td>\n",
       "      <td>14</td>\n",
       "      <td>0.001885</td>\n",
       "      <td>1</td>\n",
       "    </tr>\n",
       "    <tr>\n",
       "      <th>2020-07-16 10:00:00</th>\n",
       "      <td>0.937013</td>\n",
       "      <td>0.816151</td>\n",
       "      <td>2.309762</td>\n",
       "      <td>0.000000</td>\n",
       "      <td>0.435768</td>\n",
       "      <td>56</td>\n",
       "      <td>0.003889</td>\n",
       "      <td>1</td>\n",
       "    </tr>\n",
       "    <tr>\n",
       "      <th>2020-07-16 11:00:00</th>\n",
       "      <td>0.472971</td>\n",
       "      <td>0.488726</td>\n",
       "      <td>1.624281</td>\n",
       "      <td>0.037407</td>\n",
       "      <td>0.141086</td>\n",
       "      <td>6</td>\n",
       "      <td>0.000417</td>\n",
       "      <td>1</td>\n",
       "    </tr>\n",
       "    <tr>\n",
       "      <th>2020-07-16 12:00:00</th>\n",
       "      <td>0.341072</td>\n",
       "      <td>0.293550</td>\n",
       "      <td>2.103368</td>\n",
       "      <td>0.000000</td>\n",
       "      <td>0.180508</td>\n",
       "      <td>11</td>\n",
       "      <td>0.000764</td>\n",
       "      <td>1</td>\n",
       "    </tr>\n",
       "    <tr>\n",
       "      <th>2020-07-16 13:00:00</th>\n",
       "      <td>1.833972</td>\n",
       "      <td>1.805061</td>\n",
       "      <td>3.420278</td>\n",
       "      <td>0.260252</td>\n",
       "      <td>0.560089</td>\n",
       "      <td>197</td>\n",
       "      <td>0.013681</td>\n",
       "      <td>1</td>\n",
       "    </tr>\n",
       "  </tbody>\n",
       "</table>\n",
       "</div>"
      ],
      "text/plain": [
       "                         mean    median       max       min       std  \\\n",
       "datetime                                                                \n",
       "2020-07-16 09:00:00  0.765428  0.766203  3.570595  0.000000  0.323079   \n",
       "2020-07-16 10:00:00  0.937013  0.816151  2.309762  0.000000  0.435768   \n",
       "2020-07-16 11:00:00  0.472971  0.488726  1.624281  0.037407  0.141086   \n",
       "2020-07-16 12:00:00  0.341072  0.293550  2.103368  0.000000  0.180508   \n",
       "2020-07-16 13:00:00  1.833972  1.805061  3.420278  0.260252  0.560089   \n",
       "\n",
       "                     total_peaks  mean_peaks  estres  \n",
       "datetime                                              \n",
       "2020-07-16 09:00:00           14    0.001885       1  \n",
       "2020-07-16 10:00:00           56    0.003889       1  \n",
       "2020-07-16 11:00:00            6    0.000417       1  \n",
       "2020-07-16 12:00:00           11    0.000764       1  \n",
       "2020-07-16 13:00:00          197    0.013681       1  "
      ]
     },
     "execution_count": 609,
     "metadata": {},
     "output_type": "execute_result"
    }
   ],
   "source": [
    "# Lo mismo aplicamos para 1 hora\n",
    "df_procesado_1hora = eda_values[' eda'].resample('1h')\n",
    "# Para picos tambien\n",
    "df_procesado_1hora_picos = eda_values['peak'].resample('1h') \n",
    "# Obtenemos el promedio\n",
    "df_1hora = df_procesado_1hora.agg(['mean', 'median', 'max', 'min', 'std'])\n",
    "df_1hora_peaks = df_procesado_1hora_picos.agg({\n",
    "    'count': lambda x: (x == 1).sum(),\n",
    "    'promedio': 'mean'\n",
    "})\n",
    "# Juntamos ambos valores ahora en un solo dataframe\n",
    "df_1hora['total_peaks'] = df_1hora_peaks['count']\n",
    "df_1hora['mean_peaks'] = df_1hora_peaks['promedio']\n",
    "\n",
    "# Añadimos la columna de estres detectado\n",
    "\n",
    "df_1hora['estres'] = np.where(df_1hora['mean_peaks'] > 0, 1, 0)\n",
    "\n",
    "df_1hora.head()"
   ]
  },
  {
   "cell_type": "code",
   "execution_count": 610,
   "metadata": {},
   "outputs": [
    {
     "data": {
      "text/html": [
       "<div>\n",
       "<style scoped>\n",
       "    .dataframe tbody tr th:only-of-type {\n",
       "        vertical-align: middle;\n",
       "    }\n",
       "\n",
       "    .dataframe tbody tr th {\n",
       "        vertical-align: top;\n",
       "    }\n",
       "\n",
       "    .dataframe thead th {\n",
       "        text-align: right;\n",
       "    }\n",
       "</style>\n",
       "<table border=\"1\" class=\"dataframe\">\n",
       "  <thead>\n",
       "    <tr style=\"text-align: right;\">\n",
       "      <th></th>\n",
       "      <th>mean</th>\n",
       "      <th>median</th>\n",
       "      <th>max</th>\n",
       "      <th>min</th>\n",
       "      <th>std</th>\n",
       "      <th>total_peaks</th>\n",
       "      <th>mean_peaks</th>\n",
       "      <th>estres</th>\n",
       "      <th>q1</th>\n",
       "      <th>q3</th>\n",
       "    </tr>\n",
       "    <tr>\n",
       "      <th>datetime</th>\n",
       "      <th></th>\n",
       "      <th></th>\n",
       "      <th></th>\n",
       "      <th></th>\n",
       "      <th></th>\n",
       "      <th></th>\n",
       "      <th></th>\n",
       "      <th></th>\n",
       "      <th></th>\n",
       "      <th></th>\n",
       "    </tr>\n",
       "  </thead>\n",
       "  <tbody>\n",
       "    <tr>\n",
       "      <th>2020-07-16 09:25:00</th>\n",
       "      <td>0.448949</td>\n",
       "      <td>0.064036</td>\n",
       "      <td>3.570595</td>\n",
       "      <td>0.000000</td>\n",
       "      <td>0.803402</td>\n",
       "      <td>8</td>\n",
       "      <td>0.035088</td>\n",
       "      <td>1</td>\n",
       "      <td>0.005123</td>\n",
       "      <td>0.335883</td>\n",
       "    </tr>\n",
       "    <tr>\n",
       "      <th>2020-07-16 09:30:00</th>\n",
       "      <td>0.326691</td>\n",
       "      <td>0.372047</td>\n",
       "      <td>0.653164</td>\n",
       "      <td>0.016649</td>\n",
       "      <td>0.165484</td>\n",
       "      <td>1</td>\n",
       "      <td>0.000833</td>\n",
       "      <td>1</td>\n",
       "      <td>0.139598</td>\n",
       "      <td>0.452092</td>\n",
       "    </tr>\n",
       "    <tr>\n",
       "      <th>2020-07-16 09:35:00</th>\n",
       "      <td>0.631900</td>\n",
       "      <td>0.631659</td>\n",
       "      <td>0.764853</td>\n",
       "      <td>0.506149</td>\n",
       "      <td>0.051198</td>\n",
       "      <td>0</td>\n",
       "      <td>0.000000</td>\n",
       "      <td>0</td>\n",
       "      <td>0.591957</td>\n",
       "      <td>0.670080</td>\n",
       "    </tr>\n",
       "    <tr>\n",
       "      <th>2020-07-16 09:40:00</th>\n",
       "      <td>1.030635</td>\n",
       "      <td>1.036434</td>\n",
       "      <td>1.396314</td>\n",
       "      <td>0.658554</td>\n",
       "      <td>0.194995</td>\n",
       "      <td>3</td>\n",
       "      <td>0.002500</td>\n",
       "      <td>1</td>\n",
       "      <td>0.858042</td>\n",
       "      <td>1.190439</td>\n",
       "    </tr>\n",
       "    <tr>\n",
       "      <th>2020-07-16 09:45:00</th>\n",
       "      <td>1.049776</td>\n",
       "      <td>1.044758</td>\n",
       "      <td>1.259278</td>\n",
       "      <td>0.846888</td>\n",
       "      <td>0.083042</td>\n",
       "      <td>1</td>\n",
       "      <td>0.000833</td>\n",
       "      <td>1</td>\n",
       "      <td>0.986486</td>\n",
       "      <td>1.117119</td>\n",
       "    </tr>\n",
       "  </tbody>\n",
       "</table>\n",
       "</div>"
      ],
      "text/plain": [
       "                         mean    median       max       min       std  \\\n",
       "datetime                                                                \n",
       "2020-07-16 09:25:00  0.448949  0.064036  3.570595  0.000000  0.803402   \n",
       "2020-07-16 09:30:00  0.326691  0.372047  0.653164  0.016649  0.165484   \n",
       "2020-07-16 09:35:00  0.631900  0.631659  0.764853  0.506149  0.051198   \n",
       "2020-07-16 09:40:00  1.030635  1.036434  1.396314  0.658554  0.194995   \n",
       "2020-07-16 09:45:00  1.049776  1.044758  1.259278  0.846888  0.083042   \n",
       "\n",
       "                     total_peaks  mean_peaks  estres        q1        q3  \n",
       "datetime                                                                  \n",
       "2020-07-16 09:25:00            8    0.035088       1  0.005123  0.335883  \n",
       "2020-07-16 09:30:00            1    0.000833       1  0.139598  0.452092  \n",
       "2020-07-16 09:35:00            0    0.000000       0  0.591957  0.670080  \n",
       "2020-07-16 09:40:00            3    0.002500       1  0.858042  1.190439  \n",
       "2020-07-16 09:45:00            1    0.000833       1  0.986486  1.117119  "
      ]
     },
     "execution_count": 610,
     "metadata": {},
     "output_type": "execute_result"
    }
   ],
   "source": [
    "# Separar los cuartiles en columnas individuales\n",
    "# Obtenemos los quantiles\n",
    "df_5min_quantil1 = df_procesado_5min.quantile(0.25)\n",
    "df_5min_quantil3 = df_procesado_5min.quantile(0.75)\n",
    "df_1hora_quantil1 = df_procesado_1hora.quantile(0.25)\n",
    "df_1hora_quantil3 = df_procesado_1hora.quantile(0.75)\n",
    "df_5min['q1'] = df_5min_quantil1\n",
    "df_5min['q3'] = df_5min_quantil3\n",
    "df_5min.head()\n",
    "# df_1hora[['q1', 'q3']] = [df_1hora_quantil1,df_1hora_quantil3]\n"
   ]
  },
  {
   "cell_type": "code",
   "execution_count": 611,
   "metadata": {},
   "outputs": [
    {
     "data": {
      "text/plain": [
       "mean           1866\n",
       "median         1866\n",
       "max            1866\n",
       "min            1866\n",
       "std            1866\n",
       "total_peaks    2173\n",
       "mean_peaks     1866\n",
       "estres         2173\n",
       "q1             1866\n",
       "q3             1866\n",
       "dtype: int64"
      ]
     },
     "execution_count": 611,
     "metadata": {},
     "output_type": "execute_result"
    }
   ],
   "source": [
    "df_5min.count()"
   ]
  },
  {
   "cell_type": "code",
   "execution_count": 612,
   "metadata": {},
   "outputs": [
    {
     "data": {
      "text/html": [
       "<div>\n",
       "<style scoped>\n",
       "    .dataframe tbody tr th:only-of-type {\n",
       "        vertical-align: middle;\n",
       "    }\n",
       "\n",
       "    .dataframe tbody tr th {\n",
       "        vertical-align: top;\n",
       "    }\n",
       "\n",
       "    .dataframe thead th {\n",
       "        text-align: right;\n",
       "    }\n",
       "</style>\n",
       "<table border=\"1\" class=\"dataframe\">\n",
       "  <thead>\n",
       "    <tr style=\"text-align: right;\">\n",
       "      <th></th>\n",
       "      <th>mean</th>\n",
       "      <th>median</th>\n",
       "      <th>max</th>\n",
       "      <th>min</th>\n",
       "      <th>std</th>\n",
       "      <th>total_peaks</th>\n",
       "      <th>mean_peaks</th>\n",
       "      <th>estres</th>\n",
       "      <th>q1</th>\n",
       "      <th>q3</th>\n",
       "    </tr>\n",
       "    <tr>\n",
       "      <th>datetime</th>\n",
       "      <th></th>\n",
       "      <th></th>\n",
       "      <th></th>\n",
       "      <th></th>\n",
       "      <th></th>\n",
       "      <th></th>\n",
       "      <th></th>\n",
       "      <th></th>\n",
       "      <th></th>\n",
       "      <th></th>\n",
       "    </tr>\n",
       "  </thead>\n",
       "  <tbody>\n",
       "    <tr>\n",
       "      <th>2020-07-16 09:00:00</th>\n",
       "      <td>0.765428</td>\n",
       "      <td>0.766203</td>\n",
       "      <td>3.570595</td>\n",
       "      <td>0.000000</td>\n",
       "      <td>0.323079</td>\n",
       "      <td>14</td>\n",
       "      <td>0.001885</td>\n",
       "      <td>1</td>\n",
       "      <td>0.575307</td>\n",
       "      <td>1.013381</td>\n",
       "    </tr>\n",
       "    <tr>\n",
       "      <th>2020-07-16 10:00:00</th>\n",
       "      <td>0.937013</td>\n",
       "      <td>0.816151</td>\n",
       "      <td>2.309762</td>\n",
       "      <td>0.000000</td>\n",
       "      <td>0.435768</td>\n",
       "      <td>56</td>\n",
       "      <td>0.003889</td>\n",
       "      <td>1</td>\n",
       "      <td>0.576588</td>\n",
       "      <td>1.232383</td>\n",
       "    </tr>\n",
       "    <tr>\n",
       "      <th>2020-07-16 11:00:00</th>\n",
       "      <td>0.472971</td>\n",
       "      <td>0.488726</td>\n",
       "      <td>1.624281</td>\n",
       "      <td>0.037407</td>\n",
       "      <td>0.141086</td>\n",
       "      <td>6</td>\n",
       "      <td>0.000417</td>\n",
       "      <td>1</td>\n",
       "      <td>0.408548</td>\n",
       "      <td>0.536886</td>\n",
       "    </tr>\n",
       "    <tr>\n",
       "      <th>2020-07-16 12:00:00</th>\n",
       "      <td>0.341072</td>\n",
       "      <td>0.293550</td>\n",
       "      <td>2.103368</td>\n",
       "      <td>0.000000</td>\n",
       "      <td>0.180508</td>\n",
       "      <td>11</td>\n",
       "      <td>0.000764</td>\n",
       "      <td>1</td>\n",
       "      <td>0.223111</td>\n",
       "      <td>0.412657</td>\n",
       "    </tr>\n",
       "    <tr>\n",
       "      <th>2020-07-16 13:00:00</th>\n",
       "      <td>1.833972</td>\n",
       "      <td>1.805061</td>\n",
       "      <td>3.420278</td>\n",
       "      <td>0.260252</td>\n",
       "      <td>0.560089</td>\n",
       "      <td>197</td>\n",
       "      <td>0.013681</td>\n",
       "      <td>1</td>\n",
       "      <td>1.403703</td>\n",
       "      <td>2.273628</td>\n",
       "    </tr>\n",
       "  </tbody>\n",
       "</table>\n",
       "</div>"
      ],
      "text/plain": [
       "                         mean    median       max       min       std  \\\n",
       "datetime                                                                \n",
       "2020-07-16 09:00:00  0.765428  0.766203  3.570595  0.000000  0.323079   \n",
       "2020-07-16 10:00:00  0.937013  0.816151  2.309762  0.000000  0.435768   \n",
       "2020-07-16 11:00:00  0.472971  0.488726  1.624281  0.037407  0.141086   \n",
       "2020-07-16 12:00:00  0.341072  0.293550  2.103368  0.000000  0.180508   \n",
       "2020-07-16 13:00:00  1.833972  1.805061  3.420278  0.260252  0.560089   \n",
       "\n",
       "                     total_peaks  mean_peaks  estres        q1        q3  \n",
       "datetime                                                                  \n",
       "2020-07-16 09:00:00           14    0.001885       1  0.575307  1.013381  \n",
       "2020-07-16 10:00:00           56    0.003889       1  0.576588  1.232383  \n",
       "2020-07-16 11:00:00            6    0.000417       1  0.408548  0.536886  \n",
       "2020-07-16 12:00:00           11    0.000764       1  0.223111  0.412657  \n",
       "2020-07-16 13:00:00          197    0.013681       1  1.403703  2.273628  "
      ]
     },
     "execution_count": 612,
     "metadata": {},
     "output_type": "execute_result"
    }
   ],
   "source": [
    "# Igual con 1hora de dataset\n",
    "df_1hora['q1'] = df_1hora_quantil1\n",
    "df_1hora['q3'] = df_1hora_quantil3\n",
    "df_1hora.head()"
   ]
  },
  {
   "cell_type": "code",
   "execution_count": 613,
   "metadata": {},
   "outputs": [
    {
     "data": {
      "text/plain": [
       "mean           161\n",
       "median         161\n",
       "max            161\n",
       "min            161\n",
       "std            161\n",
       "total_peaks    182\n",
       "mean_peaks     161\n",
       "estres         182\n",
       "q1             161\n",
       "q3             161\n",
       "dtype: int64"
      ]
     },
     "execution_count": 613,
     "metadata": {},
     "output_type": "execute_result"
    }
   ],
   "source": [
    "df_1hora.count()"
   ]
  },
  {
   "cell_type": "markdown",
   "metadata": {},
   "source": [
    "## LIMPIEZA DE DATOS\n",
    "Algunas filas contienen datos NaN, vamos a limpiarlos"
   ]
  },
  {
   "cell_type": "code",
   "execution_count": 614,
   "metadata": {},
   "outputs": [
    {
     "name": "stdout",
     "output_type": "stream",
     "text": [
      "Cantidad de datos de dataset 5 min limpiado: mean           1866\n",
      "median         1866\n",
      "max            1866\n",
      "min            1866\n",
      "std            1866\n",
      "total_peaks    1866\n",
      "mean_peaks     1866\n",
      "estres         1866\n",
      "q1             1866\n",
      "q3             1866\n",
      "dtype: int64\n",
      "Cantidad de datos de dataset 1 hora limpiado: mean           161\n",
      "median         161\n",
      "max            161\n",
      "min            161\n",
      "std            161\n",
      "total_peaks    161\n",
      "mean_peaks     161\n",
      "estres         161\n",
      "q1             161\n",
      "q3             161\n",
      "dtype: int64\n"
     ]
    }
   ],
   "source": [
    "df_5min_cleaned = df_5min.dropna(subset=['mean'])\n",
    "df_1hora_cleaned = df_1hora.dropna(subset=['mean'])\n",
    "print('Cantidad de datos de dataset 5 min limpiado: ' + str(df_5min_cleaned.count()))\n",
    "print('Cantidad de datos de dataset 1 hora limpiado: ' + str(df_1hora_cleaned.count()))"
   ]
  },
  {
   "cell_type": "code",
   "execution_count": 615,
   "metadata": {},
   "outputs": [],
   "source": [
    "# Exportamos los resultados en un csv\n",
    "df_5min_cleaned.to_csv(\"EDA_5min_\"+PACIENTE+\".csv\")\n",
    "df_1hora_cleaned.to_csv(\"EDA_1hora_\"+PACIENTE+\".csv\")"
   ]
  },
  {
   "cell_type": "markdown",
   "metadata": {},
   "source": [
    "### ARCHIVOS CSV GENERADOS CON EXITO PARA 5 MIN Y 1 HORA"
   ]
  }
 ],
 "metadata": {
  "kernelspec": {
   "display_name": "Python 3",
   "language": "python",
   "name": "python3"
  },
  "language_info": {
   "codemirror_mode": {
    "name": "ipython",
    "version": 3
   },
   "file_extension": ".py",
   "mimetype": "text/x-python",
   "name": "python",
   "nbconvert_exporter": "python",
   "pygments_lexer": "ipython3",
   "version": "3.11.3"
  }
 },
 "nbformat": 4,
 "nbformat_minor": 2
}
