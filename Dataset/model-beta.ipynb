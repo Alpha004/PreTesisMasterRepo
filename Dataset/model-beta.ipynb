{
 "cells": [
  {
   "cell_type": "markdown",
   "metadata": {},
   "source": [
    "## Iniciando Modelo de Entrenamiento\n",
    "Para esta parte, el articulo menciona el uso de modelo orientado a Random Forest con Regresion, actualmente ya se tiene el dataset final con mas de 34000 registros y 72 caracteristicas.\n",
    "Se utilizara TensorFlow corriendo con Cuda para el entrenamiento y testeo"
   ]
  },
  {
   "cell_type": "code",
   "execution_count": 1,
   "metadata": {},
   "outputs": [
    {
     "name": "stderr",
     "output_type": "stream",
     "text": [
      "2024-11-24 22:58:52.461077: E external/local_xla/xla/stream_executor/cuda/cuda_fft.cc:477] Unable to register cuFFT factory: Attempting to register factory for plugin cuFFT when one has already been registered\n",
      "WARNING: All log messages before absl::InitializeLog() is called are written to STDERR\n",
      "E0000 00:00:1732507132.477538    6928 cuda_dnn.cc:8310] Unable to register cuDNN factory: Attempting to register factory for plugin cuDNN when one has already been registered\n",
      "E0000 00:00:1732507132.482446    6928 cuda_blas.cc:1418] Unable to register cuBLAS factory: Attempting to register factory for plugin cuBLAS when one has already been registered\n",
      "2024-11-24 22:58:52.501307: I tensorflow/core/platform/cpu_feature_guard.cc:210] This TensorFlow binary is optimized to use available CPU instructions in performance-critical operations.\n",
      "To enable the following instructions: AVX2 FMA, in other operations, rebuild TensorFlow with the appropriate compiler flags.\n"
     ]
    },
    {
     "name": "stdout",
     "output_type": "stream",
     "text": [
      "[PhysicalDevice(name='/physical_device:GPU:0', device_type='GPU')]\n"
     ]
    }
   ],
   "source": [
    "import tensorflow as tf\n",
    "\n",
    "print(tf.config.list_physical_devices('GPU'))"
   ]
  },
  {
   "cell_type": "code",
   "execution_count": 2,
   "metadata": {},
   "outputs": [
    {
     "name": "stdout",
     "output_type": "stream",
     "text": [
      "2.18.0\n"
     ]
    }
   ],
   "source": [
    "print(tf.__version__)"
   ]
  },
  {
   "cell_type": "code",
   "execution_count": 3,
   "metadata": {},
   "outputs": [
    {
     "name": "stdout",
     "output_type": "stream",
     "text": [
      "True\n"
     ]
    }
   ],
   "source": [
    "import torch\n",
    "\n",
    "print(torch.cuda.is_available())"
   ]
  },
  {
   "cell_type": "markdown",
   "metadata": {},
   "source": [
    "### Importamos el dataset"
   ]
  },
  {
   "cell_type": "code",
   "execution_count": 4,
   "metadata": {},
   "outputs": [
    {
     "data": {
      "text/html": [
       "\n",
       "<p style=\"margin:0px;\">🌲 Try <a href=\"https://ydf.readthedocs.io/en/latest/\" target=\"_blank\">YDF</a>, the successor of\n",
       "    <a href=\"https://www.tensorflow.org/decision_forests\" target=\"_blank\">TensorFlow\n",
       "        Decision Forests</a> using the same algorithms but with more features and faster\n",
       "    training!\n",
       "</p>\n",
       "<div style=\"display: flex; flex-wrap: wrap; margin:5px;max-width: 880px;\">\n",
       "    <div style=\"flex: 1; border-radius: 10px; background-color: F0F0F0; padding: 5px;\">\n",
       "        <p\n",
       "            style=\"font-weight: bold; margin:0px;text-align: center;border-bottom: 1px solid #C0C0C0;margin-bottom: 4px;\">\n",
       "            Old code</p>\n",
       "        <pre style=\"overflow-wrap: anywhere; overflow: auto; margin:0px;font-size: 9pt;\">\n",
       "import tensorflow_decision_forests as tfdf\n",
       "\n",
       "tf_ds = tfdf.keras.pd_dataframe_to_tf_dataset(ds, label=\"l\")\n",
       "model = tfdf.keras.RandomForestModel(label=\"l\")\n",
       "model.fit(tf_ds)\n",
       "</pre>\n",
       "    </div>\n",
       "    <div style=\"width: 5px;\"></div>\n",
       "    <div style=\"flex: 1; border-radius: 10px; background-color: F0F0F0; padding: 5px;\">\n",
       "        <p\n",
       "            style=\"font-weight: bold; margin:0px;text-align: center;border-bottom: 1px solid #C0C0C0;margin-bottom: 4px;\">\n",
       "            New code</p>\n",
       "        <pre style=\"overflow-wrap: anywhere; overflow: auto; margin:0px;font-size: 9pt;\">\n",
       "import ydf\n",
       "\n",
       "model = ydf.RandomForestLearner(label=\"l\").train(ds)\n",
       "</pre>\n",
       "    </div>\n",
       "</div>\n",
       "<p style=\"margin:0px;font-size: 9pt;\">(Learn more in the <a\n",
       "        href=\"https://ydf.readthedocs.io/en/latest/tutorial/migrating_to_ydf/\" target=\"_blank\">migration\n",
       "        guide</a>)</p>\n"
      ],
      "text/plain": [
       "<IPython.core.display.HTML object>"
      ]
     },
     "metadata": {},
     "output_type": "display_data"
    }
   ],
   "source": [
    "import tensorflow_decision_forests as tfdf\n",
    "import pandas as pd\n",
    "import numpy as np"
   ]
  },
  {
   "cell_type": "code",
   "execution_count": 5,
   "metadata": {},
   "outputs": [
    {
     "data": {
      "text/html": [
       "<div>\n",
       "<style scoped>\n",
       "    .dataframe tbody tr th:only-of-type {\n",
       "        vertical-align: middle;\n",
       "    }\n",
       "\n",
       "    .dataframe tbody tr th {\n",
       "        vertical-align: top;\n",
       "    }\n",
       "\n",
       "    .dataframe thead th {\n",
       "        text-align: right;\n",
       "    }\n",
       "</style>\n",
       "<table border=\"1\" class=\"dataframe\">\n",
       "  <thead>\n",
       "    <tr style=\"text-align: right;\">\n",
       "      <th></th>\n",
       "      <th>datetime</th>\n",
       "      <th>glucose</th>\n",
       "      <th>glucose_24h_mean</th>\n",
       "      <th>nivel</th>\n",
       "      <th>gender</th>\n",
       "      <th>hba1c</th>\n",
       "      <th>id</th>\n",
       "      <th>acc_mean</th>\n",
       "      <th>acc_median</th>\n",
       "      <th>acc_max</th>\n",
       "      <th>...</th>\n",
       "      <th>food2h_sugar_sum</th>\n",
       "      <th>food2h_sugar_mean</th>\n",
       "      <th>food2h_protein_sum</th>\n",
       "      <th>food2h_protein_mean</th>\n",
       "      <th>food2h_cantidad_comidas_</th>\n",
       "      <th>food2h_media_comidas_</th>\n",
       "      <th>food8h_cantidad_comidas_</th>\n",
       "      <th>food8h_media_comidas_</th>\n",
       "      <th>food24h_cantidad_comidas_</th>\n",
       "      <th>food24h_media_comidas_</th>\n",
       "    </tr>\n",
       "  </thead>\n",
       "  <tbody>\n",
       "    <tr>\n",
       "      <th>0</th>\n",
       "      <td>2020-02-13 17:20:00</td>\n",
       "      <td>61.0</td>\n",
       "      <td>101.45</td>\n",
       "      <td>PersNorm</td>\n",
       "      <td>FEMALE</td>\n",
       "      <td>5.5</td>\n",
       "      <td>1.0</td>\n",
       "      <td>64.328161</td>\n",
       "      <td>63.976558</td>\n",
       "      <td>85.545310</td>\n",
       "      <td>...</td>\n",
       "      <td>0.0</td>\n",
       "      <td>0.0</td>\n",
       "      <td>0.0</td>\n",
       "      <td>0.0</td>\n",
       "      <td>0.0</td>\n",
       "      <td>0.0</td>\n",
       "      <td>0.0</td>\n",
       "      <td>0.0</td>\n",
       "      <td>0.0</td>\n",
       "      <td>0.0</td>\n",
       "    </tr>\n",
       "    <tr>\n",
       "      <th>1</th>\n",
       "      <td>2020-02-13 17:25:00</td>\n",
       "      <td>59.0</td>\n",
       "      <td>101.45</td>\n",
       "      <td>PersNorm</td>\n",
       "      <td>FEMALE</td>\n",
       "      <td>5.5</td>\n",
       "      <td>1.0</td>\n",
       "      <td>64.632465</td>\n",
       "      <td>63.921827</td>\n",
       "      <td>90.365923</td>\n",
       "      <td>...</td>\n",
       "      <td>0.0</td>\n",
       "      <td>0.0</td>\n",
       "      <td>0.0</td>\n",
       "      <td>0.0</td>\n",
       "      <td>0.0</td>\n",
       "      <td>0.0</td>\n",
       "      <td>0.0</td>\n",
       "      <td>0.0</td>\n",
       "      <td>0.0</td>\n",
       "      <td>0.0</td>\n",
       "    </tr>\n",
       "    <tr>\n",
       "      <th>2</th>\n",
       "      <td>2020-02-13 17:30:00</td>\n",
       "      <td>58.0</td>\n",
       "      <td>101.45</td>\n",
       "      <td>PersNorm</td>\n",
       "      <td>FEMALE</td>\n",
       "      <td>5.5</td>\n",
       "      <td>1.0</td>\n",
       "      <td>64.531001</td>\n",
       "      <td>64.148266</td>\n",
       "      <td>88.345911</td>\n",
       "      <td>...</td>\n",
       "      <td>0.0</td>\n",
       "      <td>0.0</td>\n",
       "      <td>0.0</td>\n",
       "      <td>0.0</td>\n",
       "      <td>0.0</td>\n",
       "      <td>0.0</td>\n",
       "      <td>0.0</td>\n",
       "      <td>0.0</td>\n",
       "      <td>0.0</td>\n",
       "      <td>0.0</td>\n",
       "    </tr>\n",
       "    <tr>\n",
       "      <th>3</th>\n",
       "      <td>2020-02-13 17:35:00</td>\n",
       "      <td>59.0</td>\n",
       "      <td>101.45</td>\n",
       "      <td>PersNorm</td>\n",
       "      <td>FEMALE</td>\n",
       "      <td>5.5</td>\n",
       "      <td>1.0</td>\n",
       "      <td>63.708273</td>\n",
       "      <td>63.095166</td>\n",
       "      <td>149.298359</td>\n",
       "      <td>...</td>\n",
       "      <td>0.0</td>\n",
       "      <td>0.0</td>\n",
       "      <td>0.0</td>\n",
       "      <td>0.0</td>\n",
       "      <td>0.0</td>\n",
       "      <td>0.0</td>\n",
       "      <td>0.0</td>\n",
       "      <td>0.0</td>\n",
       "      <td>0.0</td>\n",
       "      <td>0.0</td>\n",
       "    </tr>\n",
       "    <tr>\n",
       "      <th>4</th>\n",
       "      <td>2020-02-13 17:40:00</td>\n",
       "      <td>63.0</td>\n",
       "      <td>101.45</td>\n",
       "      <td>PersNorm</td>\n",
       "      <td>FEMALE</td>\n",
       "      <td>5.5</td>\n",
       "      <td>1.0</td>\n",
       "      <td>63.475463</td>\n",
       "      <td>63.063460</td>\n",
       "      <td>157.711762</td>\n",
       "      <td>...</td>\n",
       "      <td>0.0</td>\n",
       "      <td>0.0</td>\n",
       "      <td>0.0</td>\n",
       "      <td>0.0</td>\n",
       "      <td>0.0</td>\n",
       "      <td>0.0</td>\n",
       "      <td>0.0</td>\n",
       "      <td>0.0</td>\n",
       "      <td>0.0</td>\n",
       "      <td>0.0</td>\n",
       "    </tr>\n",
       "  </tbody>\n",
       "</table>\n",
       "<p>5 rows × 73 columns</p>\n",
       "</div>"
      ],
      "text/plain": [
       "              datetime  glucose  glucose_24h_mean     nivel  gender  hba1c   \n",
       "0  2020-02-13 17:20:00     61.0            101.45  PersNorm  FEMALE    5.5  \\\n",
       "1  2020-02-13 17:25:00     59.0            101.45  PersNorm  FEMALE    5.5   \n",
       "2  2020-02-13 17:30:00     58.0            101.45  PersNorm  FEMALE    5.5   \n",
       "3  2020-02-13 17:35:00     59.0            101.45  PersNorm  FEMALE    5.5   \n",
       "4  2020-02-13 17:40:00     63.0            101.45  PersNorm  FEMALE    5.5   \n",
       "\n",
       "    id   acc_mean  acc_median     acc_max  ...  food2h_sugar_sum   \n",
       "0  1.0  64.328161   63.976558   85.545310  ...               0.0  \\\n",
       "1  1.0  64.632465   63.921827   90.365923  ...               0.0   \n",
       "2  1.0  64.531001   64.148266   88.345911  ...               0.0   \n",
       "3  1.0  63.708273   63.095166  149.298359  ...               0.0   \n",
       "4  1.0  63.475463   63.063460  157.711762  ...               0.0   \n",
       "\n",
       "   food2h_sugar_mean  food2h_protein_sum  food2h_protein_mean   \n",
       "0                0.0                 0.0                  0.0  \\\n",
       "1                0.0                 0.0                  0.0   \n",
       "2                0.0                 0.0                  0.0   \n",
       "3                0.0                 0.0                  0.0   \n",
       "4                0.0                 0.0                  0.0   \n",
       "\n",
       "   food2h_cantidad_comidas_  food2h_media_comidas_  food8h_cantidad_comidas_   \n",
       "0                       0.0                    0.0                       0.0  \\\n",
       "1                       0.0                    0.0                       0.0   \n",
       "2                       0.0                    0.0                       0.0   \n",
       "3                       0.0                    0.0                       0.0   \n",
       "4                       0.0                    0.0                       0.0   \n",
       "\n",
       "   food8h_media_comidas_  food24h_cantidad_comidas_  food24h_media_comidas_  \n",
       "0                    0.0                        0.0                     0.0  \n",
       "1                    0.0                        0.0                     0.0  \n",
       "2                    0.0                        0.0                     0.0  \n",
       "3                    0.0                        0.0                     0.0  \n",
       "4                    0.0                        0.0                     0.0  \n",
       "\n",
       "[5 rows x 73 columns]"
      ]
     },
     "execution_count": 5,
     "metadata": {},
     "output_type": "execute_result"
    }
   ],
   "source": [
    "dataset_df = pd.read_csv(\"main_dataset.csv\")\n",
    "dataset_df.head()"
   ]
  },
  {
   "cell_type": "code",
   "execution_count": 6,
   "metadata": {},
   "outputs": [
    {
     "name": "stdout",
     "output_type": "stream",
     "text": [
      "['PersNorm', 'PersHigh', 'PersLow']\n"
     ]
    }
   ],
   "source": [
    "classes = dataset_df['nivel'].unique().tolist()\n",
    "print(classes)"
   ]
  },
  {
   "cell_type": "code",
   "execution_count": 7,
   "metadata": {},
   "outputs": [],
   "source": [
    "# Split the dataset into a training and a testing dataset.\n",
    "\n",
    "def split_dataset(dataset, test_ratio=0.30):\n",
    "  \"\"\"Splits a panda dataframe in two.\"\"\"\n",
    "  test_indices = np.random.rand(len(dataset)) < test_ratio\n",
    "  return dataset[~test_indices], dataset[test_indices]"
   ]
  },
  {
   "cell_type": "code",
   "execution_count": 8,
   "metadata": {},
   "outputs": [
    {
     "name": "stdout",
     "output_type": "stream",
     "text": [
      "24136 examples in training, 10456 examples for testing.\n"
     ]
    }
   ],
   "source": [
    "train_ds_pd, test_ds_pd = split_dataset(dataset_df)\n",
    "print(\"{} examples in training, {} examples for testing.\".format(\n",
    "    len(train_ds_pd), len(test_ds_pd)))"
   ]
  }
 ],
 "metadata": {
  "kernelspec": {
   "display_name": "tf",
   "language": "python",
   "name": "python3"
  },
  "language_info": {
   "codemirror_mode": {
    "name": "ipython",
    "version": 3
   },
   "file_extension": ".py",
   "mimetype": "text/x-python",
   "name": "python",
   "nbconvert_exporter": "python",
   "pygments_lexer": "ipython3",
   "version": "3.10.15"
  }
 },
 "nbformat": 4,
 "nbformat_minor": 2
}
